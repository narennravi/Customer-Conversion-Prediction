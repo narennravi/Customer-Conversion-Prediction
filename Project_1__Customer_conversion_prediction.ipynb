{
  "nbformat": 4,
  "nbformat_minor": 0,
  "metadata": {
    "colab": {
      "provenance": [],
      "authorship_tag": "ABX9TyPDsgZ+cpM+3RwLo4eH8AN9",
      "include_colab_link": true
    },
    "kernelspec": {
      "name": "python3",
      "display_name": "Python 3"
    },
    "language_info": {
      "name": "python"
    }
  },
  "cells": [
    {
      "cell_type": "markdown",
      "metadata": {
        "id": "view-in-github",
        "colab_type": "text"
      },
      "source": [
        "<a href=\"https://colab.research.google.com/github/narennravi/Customer-Conversion-Prediction/blob/master/Project_1__Customer_conversion_prediction.ipynb\" target=\"_parent\"><img src=\"https://colab.research.google.com/assets/colab-badge.svg\" alt=\"Open In Colab\"/></a>"
      ]
    },
    {
      "cell_type": "code",
      "source": [
        "# Project - 1"
      ],
      "metadata": {
        "id": "3wL9FjfHAmp1"
      },
      "execution_count": null,
      "outputs": []
    },
    {
      "cell_type": "code",
      "source": [
        "# **CUSTOMER_CONVERSION_PREDICTION**"
      ],
      "metadata": {
        "id": "TpSJxq9aAp_s"
      },
      "execution_count": null,
      "outputs": []
    },
    {
      "cell_type": "markdown",
      "source": [
        "#-----------------------------------------------------------------------------"
      ],
      "metadata": {
        "id": "PAsYfWvZA-VR"
      }
    },
    {
      "cell_type": "markdown",
      "source": [
        "## **Import necessary Lib**"
      ],
      "metadata": {
        "id": "ISYSmpxDXui7"
      }
    },
    {
      "cell_type": "code",
      "execution_count": 1,
      "metadata": {
        "id": "vbRAw0VnXC9u"
      },
      "outputs": [],
      "source": [
        "import pandas as pd\n",
        "import numpy as np\n",
        "import matplotlib.pyplot as plt\n",
        "import seaborn as sns\n",
        "import warnings\n",
        "warnings.filterwarnings('ignore')"
      ]
    },
    {
      "cell_type": "markdown",
      "source": [
        "#-----------------------------------------------------------------------------"
      ],
      "metadata": {
        "id": "CHcOScMaBBsr"
      }
    },
    {
      "cell_type": "markdown",
      "source": [
        "## **Reading CSV file**"
      ],
      "metadata": {
        "id": "7jHT_a-0XpvZ"
      }
    },
    {
      "cell_type": "code",
      "source": [
        "df = pd.read_csv('/content/train.csv')\n",
        "df"
      ],
      "metadata": {
        "colab": {
          "base_uri": "https://localhost:8080/",
          "height": 487
        },
        "id": "phhTwb5lXKYI",
        "outputId": "48d4cfc7-a2a3-4559-eaed-7a3269655c9b"
      },
      "execution_count": 2,
      "outputs": [
        {
          "output_type": "execute_result",
          "data": {
            "text/plain": [
              "       age           job   marital education_qual  call_type  day  mon   dur  \\\n",
              "0       58    management   married       tertiary    unknown    5  may   261   \n",
              "1       44    technician    single      secondary    unknown    5  may   151   \n",
              "2       33  entrepreneur   married      secondary    unknown    5  may    76   \n",
              "3       47   blue-collar   married        unknown    unknown    5  may    92   \n",
              "4       33       unknown    single        unknown    unknown    5  may   198   \n",
              "...    ...           ...       ...            ...        ...  ...  ...   ...   \n",
              "45206   51    technician   married       tertiary   cellular   17  nov   977   \n",
              "45207   71       retired  divorced        primary   cellular   17  nov   456   \n",
              "45208   72       retired   married      secondary   cellular   17  nov  1127   \n",
              "45209   57   blue-collar   married      secondary  telephone   17  nov   508   \n",
              "45210   37  entrepreneur   married      secondary   cellular   17  nov   361   \n",
              "\n",
              "       num_calls prev_outcome    y  \n",
              "0              1      unknown   no  \n",
              "1              1      unknown   no  \n",
              "2              1      unknown   no  \n",
              "3              1      unknown   no  \n",
              "4              1      unknown   no  \n",
              "...          ...          ...  ...  \n",
              "45206          3      unknown  yes  \n",
              "45207          2      unknown  yes  \n",
              "45208          5      success  yes  \n",
              "45209          4      unknown   no  \n",
              "45210          2        other   no  \n",
              "\n",
              "[45211 rows x 11 columns]"
            ],
            "text/html": [
              "\n",
              "  <div id=\"df-8c648cc0-be86-4f47-a5a8-7971477b86a7\">\n",
              "    <div class=\"colab-df-container\">\n",
              "      <div>\n",
              "<style scoped>\n",
              "    .dataframe tbody tr th:only-of-type {\n",
              "        vertical-align: middle;\n",
              "    }\n",
              "\n",
              "    .dataframe tbody tr th {\n",
              "        vertical-align: top;\n",
              "    }\n",
              "\n",
              "    .dataframe thead th {\n",
              "        text-align: right;\n",
              "    }\n",
              "</style>\n",
              "<table border=\"1\" class=\"dataframe\">\n",
              "  <thead>\n",
              "    <tr style=\"text-align: right;\">\n",
              "      <th></th>\n",
              "      <th>age</th>\n",
              "      <th>job</th>\n",
              "      <th>marital</th>\n",
              "      <th>education_qual</th>\n",
              "      <th>call_type</th>\n",
              "      <th>day</th>\n",
              "      <th>mon</th>\n",
              "      <th>dur</th>\n",
              "      <th>num_calls</th>\n",
              "      <th>prev_outcome</th>\n",
              "      <th>y</th>\n",
              "    </tr>\n",
              "  </thead>\n",
              "  <tbody>\n",
              "    <tr>\n",
              "      <th>0</th>\n",
              "      <td>58</td>\n",
              "      <td>management</td>\n",
              "      <td>married</td>\n",
              "      <td>tertiary</td>\n",
              "      <td>unknown</td>\n",
              "      <td>5</td>\n",
              "      <td>may</td>\n",
              "      <td>261</td>\n",
              "      <td>1</td>\n",
              "      <td>unknown</td>\n",
              "      <td>no</td>\n",
              "    </tr>\n",
              "    <tr>\n",
              "      <th>1</th>\n",
              "      <td>44</td>\n",
              "      <td>technician</td>\n",
              "      <td>single</td>\n",
              "      <td>secondary</td>\n",
              "      <td>unknown</td>\n",
              "      <td>5</td>\n",
              "      <td>may</td>\n",
              "      <td>151</td>\n",
              "      <td>1</td>\n",
              "      <td>unknown</td>\n",
              "      <td>no</td>\n",
              "    </tr>\n",
              "    <tr>\n",
              "      <th>2</th>\n",
              "      <td>33</td>\n",
              "      <td>entrepreneur</td>\n",
              "      <td>married</td>\n",
              "      <td>secondary</td>\n",
              "      <td>unknown</td>\n",
              "      <td>5</td>\n",
              "      <td>may</td>\n",
              "      <td>76</td>\n",
              "      <td>1</td>\n",
              "      <td>unknown</td>\n",
              "      <td>no</td>\n",
              "    </tr>\n",
              "    <tr>\n",
              "      <th>3</th>\n",
              "      <td>47</td>\n",
              "      <td>blue-collar</td>\n",
              "      <td>married</td>\n",
              "      <td>unknown</td>\n",
              "      <td>unknown</td>\n",
              "      <td>5</td>\n",
              "      <td>may</td>\n",
              "      <td>92</td>\n",
              "      <td>1</td>\n",
              "      <td>unknown</td>\n",
              "      <td>no</td>\n",
              "    </tr>\n",
              "    <tr>\n",
              "      <th>4</th>\n",
              "      <td>33</td>\n",
              "      <td>unknown</td>\n",
              "      <td>single</td>\n",
              "      <td>unknown</td>\n",
              "      <td>unknown</td>\n",
              "      <td>5</td>\n",
              "      <td>may</td>\n",
              "      <td>198</td>\n",
              "      <td>1</td>\n",
              "      <td>unknown</td>\n",
              "      <td>no</td>\n",
              "    </tr>\n",
              "    <tr>\n",
              "      <th>...</th>\n",
              "      <td>...</td>\n",
              "      <td>...</td>\n",
              "      <td>...</td>\n",
              "      <td>...</td>\n",
              "      <td>...</td>\n",
              "      <td>...</td>\n",
              "      <td>...</td>\n",
              "      <td>...</td>\n",
              "      <td>...</td>\n",
              "      <td>...</td>\n",
              "      <td>...</td>\n",
              "    </tr>\n",
              "    <tr>\n",
              "      <th>45206</th>\n",
              "      <td>51</td>\n",
              "      <td>technician</td>\n",
              "      <td>married</td>\n",
              "      <td>tertiary</td>\n",
              "      <td>cellular</td>\n",
              "      <td>17</td>\n",
              "      <td>nov</td>\n",
              "      <td>977</td>\n",
              "      <td>3</td>\n",
              "      <td>unknown</td>\n",
              "      <td>yes</td>\n",
              "    </tr>\n",
              "    <tr>\n",
              "      <th>45207</th>\n",
              "      <td>71</td>\n",
              "      <td>retired</td>\n",
              "      <td>divorced</td>\n",
              "      <td>primary</td>\n",
              "      <td>cellular</td>\n",
              "      <td>17</td>\n",
              "      <td>nov</td>\n",
              "      <td>456</td>\n",
              "      <td>2</td>\n",
              "      <td>unknown</td>\n",
              "      <td>yes</td>\n",
              "    </tr>\n",
              "    <tr>\n",
              "      <th>45208</th>\n",
              "      <td>72</td>\n",
              "      <td>retired</td>\n",
              "      <td>married</td>\n",
              "      <td>secondary</td>\n",
              "      <td>cellular</td>\n",
              "      <td>17</td>\n",
              "      <td>nov</td>\n",
              "      <td>1127</td>\n",
              "      <td>5</td>\n",
              "      <td>success</td>\n",
              "      <td>yes</td>\n",
              "    </tr>\n",
              "    <tr>\n",
              "      <th>45209</th>\n",
              "      <td>57</td>\n",
              "      <td>blue-collar</td>\n",
              "      <td>married</td>\n",
              "      <td>secondary</td>\n",
              "      <td>telephone</td>\n",
              "      <td>17</td>\n",
              "      <td>nov</td>\n",
              "      <td>508</td>\n",
              "      <td>4</td>\n",
              "      <td>unknown</td>\n",
              "      <td>no</td>\n",
              "    </tr>\n",
              "    <tr>\n",
              "      <th>45210</th>\n",
              "      <td>37</td>\n",
              "      <td>entrepreneur</td>\n",
              "      <td>married</td>\n",
              "      <td>secondary</td>\n",
              "      <td>cellular</td>\n",
              "      <td>17</td>\n",
              "      <td>nov</td>\n",
              "      <td>361</td>\n",
              "      <td>2</td>\n",
              "      <td>other</td>\n",
              "      <td>no</td>\n",
              "    </tr>\n",
              "  </tbody>\n",
              "</table>\n",
              "<p>45211 rows × 11 columns</p>\n",
              "</div>\n",
              "      <button class=\"colab-df-convert\" onclick=\"convertToInteractive('df-8c648cc0-be86-4f47-a5a8-7971477b86a7')\"\n",
              "              title=\"Convert this dataframe to an interactive table.\"\n",
              "              style=\"display:none;\">\n",
              "        \n",
              "  <svg xmlns=\"http://www.w3.org/2000/svg\" height=\"24px\"viewBox=\"0 0 24 24\"\n",
              "       width=\"24px\">\n",
              "    <path d=\"M0 0h24v24H0V0z\" fill=\"none\"/>\n",
              "    <path d=\"M18.56 5.44l.94 2.06.94-2.06 2.06-.94-2.06-.94-.94-2.06-.94 2.06-2.06.94zm-11 1L8.5 8.5l.94-2.06 2.06-.94-2.06-.94L8.5 2.5l-.94 2.06-2.06.94zm10 10l.94 2.06.94-2.06 2.06-.94-2.06-.94-.94-2.06-.94 2.06-2.06.94z\"/><path d=\"M17.41 7.96l-1.37-1.37c-.4-.4-.92-.59-1.43-.59-.52 0-1.04.2-1.43.59L10.3 9.45l-7.72 7.72c-.78.78-.78 2.05 0 2.83L4 21.41c.39.39.9.59 1.41.59.51 0 1.02-.2 1.41-.59l7.78-7.78 2.81-2.81c.8-.78.8-2.07 0-2.86zM5.41 20L4 18.59l7.72-7.72 1.47 1.35L5.41 20z\"/>\n",
              "  </svg>\n",
              "      </button>\n",
              "      \n",
              "  <style>\n",
              "    .colab-df-container {\n",
              "      display:flex;\n",
              "      flex-wrap:wrap;\n",
              "      gap: 12px;\n",
              "    }\n",
              "\n",
              "    .colab-df-convert {\n",
              "      background-color: #E8F0FE;\n",
              "      border: none;\n",
              "      border-radius: 50%;\n",
              "      cursor: pointer;\n",
              "      display: none;\n",
              "      fill: #1967D2;\n",
              "      height: 32px;\n",
              "      padding: 0 0 0 0;\n",
              "      width: 32px;\n",
              "    }\n",
              "\n",
              "    .colab-df-convert:hover {\n",
              "      background-color: #E2EBFA;\n",
              "      box-shadow: 0px 1px 2px rgba(60, 64, 67, 0.3), 0px 1px 3px 1px rgba(60, 64, 67, 0.15);\n",
              "      fill: #174EA6;\n",
              "    }\n",
              "\n",
              "    [theme=dark] .colab-df-convert {\n",
              "      background-color: #3B4455;\n",
              "      fill: #D2E3FC;\n",
              "    }\n",
              "\n",
              "    [theme=dark] .colab-df-convert:hover {\n",
              "      background-color: #434B5C;\n",
              "      box-shadow: 0px 1px 3px 1px rgba(0, 0, 0, 0.15);\n",
              "      filter: drop-shadow(0px 1px 2px rgba(0, 0, 0, 0.3));\n",
              "      fill: #FFFFFF;\n",
              "    }\n",
              "  </style>\n",
              "\n",
              "      <script>\n",
              "        const buttonEl =\n",
              "          document.querySelector('#df-8c648cc0-be86-4f47-a5a8-7971477b86a7 button.colab-df-convert');\n",
              "        buttonEl.style.display =\n",
              "          google.colab.kernel.accessAllowed ? 'block' : 'none';\n",
              "\n",
              "        async function convertToInteractive(key) {\n",
              "          const element = document.querySelector('#df-8c648cc0-be86-4f47-a5a8-7971477b86a7');\n",
              "          const dataTable =\n",
              "            await google.colab.kernel.invokeFunction('convertToInteractive',\n",
              "                                                     [key], {});\n",
              "          if (!dataTable) return;\n",
              "\n",
              "          const docLinkHtml = 'Like what you see? Visit the ' +\n",
              "            '<a target=\"_blank\" href=https://colab.research.google.com/notebooks/data_table.ipynb>data table notebook</a>'\n",
              "            + ' to learn more about interactive tables.';\n",
              "          element.innerHTML = '';\n",
              "          dataTable['output_type'] = 'display_data';\n",
              "          await google.colab.output.renderOutput(dataTable, element);\n",
              "          const docLink = document.createElement('div');\n",
              "          docLink.innerHTML = docLinkHtml;\n",
              "          element.appendChild(docLink);\n",
              "        }\n",
              "      </script>\n",
              "    </div>\n",
              "  </div>\n",
              "  "
            ]
          },
          "metadata": {},
          "execution_count": 2
        }
      ]
    },
    {
      "cell_type": "markdown",
      "source": [
        "#-----------------------------------------------------------------------------"
      ],
      "metadata": {
        "id": "LmBf5N3rBDM_"
      }
    },
    {
      "cell_type": "markdown",
      "source": [
        "## **Checking Im-balance**"
      ],
      "metadata": {
        "id": "BW89Ca0rX20c"
      }
    },
    {
      "cell_type": "code",
      "source": [
        "a = (len(df[df['y'] == 'yes']))/(df.shape[0])\n",
        "b = (len(df[df['y'] == 'no']))/(df.shape[0])\n",
        "print('Check for Imbalancing : ','\\n'\n",
        "      '% of yes :', a,'\\n'\n",
        "      '% of no :', b, '\\n')"
      ],
      "metadata": {
        "colab": {
          "base_uri": "https://localhost:8080/"
        },
        "id": "IB8gQBCbXKUp",
        "outputId": "86f7928c-7753-4eef-bac6-905381e37c33"
      },
      "execution_count": 3,
      "outputs": [
        {
          "output_type": "stream",
          "name": "stdout",
          "text": [
            "Check for Imbalancing :  \n",
            "% of yes : 0.11698480458295547 \n",
            "% of no : 0.8830151954170445 \n",
            "\n"
          ]
        }
      ]
    },
    {
      "cell_type": "markdown",
      "source": [
        "#-----------------------------------------------------------------------------"
      ],
      "metadata": {
        "id": "q3N_mLDLBJWe"
      }
    },
    {
      "cell_type": "markdown",
      "source": [
        "## **DATA cleaning**"
      ],
      "metadata": {
        "id": "sm6tYHJ8YLPJ"
      }
    },
    {
      "cell_type": "code",
      "source": [
        "df.dtypes"
      ],
      "metadata": {
        "colab": {
          "base_uri": "https://localhost:8080/"
        },
        "id": "56_OjS6bXKR5",
        "outputId": "8e97ee50-e8dd-46d6-c7c5-9d998ab04911"
      },
      "execution_count": 4,
      "outputs": [
        {
          "output_type": "execute_result",
          "data": {
            "text/plain": [
              "age                int64\n",
              "job               object\n",
              "marital           object\n",
              "education_qual    object\n",
              "call_type         object\n",
              "day                int64\n",
              "mon               object\n",
              "dur                int64\n",
              "num_calls          int64\n",
              "prev_outcome      object\n",
              "y                 object\n",
              "dtype: object"
            ]
          },
          "metadata": {},
          "execution_count": 4
        }
      ]
    },
    {
      "cell_type": "code",
      "source": [
        "df.info()"
      ],
      "metadata": {
        "colab": {
          "base_uri": "https://localhost:8080/"
        },
        "id": "hxdAn6F6XKPR",
        "outputId": "f8021be2-9f1b-4fc9-8aca-a144bf6d09df"
      },
      "execution_count": 5,
      "outputs": [
        {
          "output_type": "stream",
          "name": "stdout",
          "text": [
            "<class 'pandas.core.frame.DataFrame'>\n",
            "RangeIndex: 45211 entries, 0 to 45210\n",
            "Data columns (total 11 columns):\n",
            " #   Column          Non-Null Count  Dtype \n",
            "---  ------          --------------  ----- \n",
            " 0   age             45211 non-null  int64 \n",
            " 1   job             45211 non-null  object\n",
            " 2   marital         45211 non-null  object\n",
            " 3   education_qual  45211 non-null  object\n",
            " 4   call_type       45211 non-null  object\n",
            " 5   day             45211 non-null  int64 \n",
            " 6   mon             45211 non-null  object\n",
            " 7   dur             45211 non-null  int64 \n",
            " 8   num_calls       45211 non-null  int64 \n",
            " 9   prev_outcome    45211 non-null  object\n",
            " 10  y               45211 non-null  object\n",
            "dtypes: int64(4), object(7)\n",
            "memory usage: 3.8+ MB\n"
          ]
        }
      ]
    },
    {
      "cell_type": "code",
      "source": [
        "df.isnull().sum()\n",
        "\n",
        "# checking for null-values"
      ],
      "metadata": {
        "colab": {
          "base_uri": "https://localhost:8080/"
        },
        "id": "ohmplaVFYYx8",
        "outputId": "b6def98b-2325-4b49-b3df-0cf0b953d413"
      },
      "execution_count": 6,
      "outputs": [
        {
          "output_type": "execute_result",
          "data": {
            "text/plain": [
              "age               0\n",
              "job               0\n",
              "marital           0\n",
              "education_qual    0\n",
              "call_type         0\n",
              "day               0\n",
              "mon               0\n",
              "dur               0\n",
              "num_calls         0\n",
              "prev_outcome      0\n",
              "y                 0\n",
              "dtype: int64"
            ]
          },
          "metadata": {},
          "execution_count": 6
        }
      ]
    },
    {
      "cell_type": "code",
      "source": [
        "df.drop_duplicates(inplace = True)\n",
        "\n",
        "# If duplicates were present it gets dropped"
      ],
      "metadata": {
        "id": "D9HE3XjkYdDt"
      },
      "execution_count": 7,
      "outputs": []
    },
    {
      "cell_type": "code",
      "source": [
        "df.shape"
      ],
      "metadata": {
        "colab": {
          "base_uri": "https://localhost:8080/"
        },
        "id": "FBSWjsMlYe2s",
        "outputId": "08c20670-fa53-469d-d71b-c79a268430e1"
      },
      "execution_count": 8,
      "outputs": [
        {
          "output_type": "execute_result",
          "data": {
            "text/plain": [
              "(45205, 11)"
            ]
          },
          "metadata": {},
          "execution_count": 8
        }
      ]
    },
    {
      "cell_type": "code",
      "source": [
        "df.describe()"
      ],
      "metadata": {
        "colab": {
          "base_uri": "https://localhost:8080/",
          "height": 300
        },
        "id": "DIQXKGa2Zi0l",
        "outputId": "cc8d5795-9ac8-4456-a05c-362ec0af9655"
      },
      "execution_count": 9,
      "outputs": [
        {
          "output_type": "execute_result",
          "data": {
            "text/plain": [
              "                age          day           dur     num_calls\n",
              "count  45205.000000  45205.00000  45205.000000  45205.000000\n",
              "mean      40.937087     15.80688    258.183055      2.763898\n",
              "std       10.619130      8.32234    257.538504      3.098189\n",
              "min       18.000000      1.00000      0.000000      1.000000\n",
              "25%       33.000000      8.00000    103.000000      1.000000\n",
              "50%       39.000000     16.00000    180.000000      2.000000\n",
              "75%       48.000000     21.00000    319.000000      3.000000\n",
              "max       95.000000     31.00000   4918.000000     63.000000"
            ],
            "text/html": [
              "\n",
              "  <div id=\"df-3ba49cd7-4309-43e7-b38a-69aa1a6cfe69\">\n",
              "    <div class=\"colab-df-container\">\n",
              "      <div>\n",
              "<style scoped>\n",
              "    .dataframe tbody tr th:only-of-type {\n",
              "        vertical-align: middle;\n",
              "    }\n",
              "\n",
              "    .dataframe tbody tr th {\n",
              "        vertical-align: top;\n",
              "    }\n",
              "\n",
              "    .dataframe thead th {\n",
              "        text-align: right;\n",
              "    }\n",
              "</style>\n",
              "<table border=\"1\" class=\"dataframe\">\n",
              "  <thead>\n",
              "    <tr style=\"text-align: right;\">\n",
              "      <th></th>\n",
              "      <th>age</th>\n",
              "      <th>day</th>\n",
              "      <th>dur</th>\n",
              "      <th>num_calls</th>\n",
              "    </tr>\n",
              "  </thead>\n",
              "  <tbody>\n",
              "    <tr>\n",
              "      <th>count</th>\n",
              "      <td>45205.000000</td>\n",
              "      <td>45205.00000</td>\n",
              "      <td>45205.000000</td>\n",
              "      <td>45205.000000</td>\n",
              "    </tr>\n",
              "    <tr>\n",
              "      <th>mean</th>\n",
              "      <td>40.937087</td>\n",
              "      <td>15.80688</td>\n",
              "      <td>258.183055</td>\n",
              "      <td>2.763898</td>\n",
              "    </tr>\n",
              "    <tr>\n",
              "      <th>std</th>\n",
              "      <td>10.619130</td>\n",
              "      <td>8.32234</td>\n",
              "      <td>257.538504</td>\n",
              "      <td>3.098189</td>\n",
              "    </tr>\n",
              "    <tr>\n",
              "      <th>min</th>\n",
              "      <td>18.000000</td>\n",
              "      <td>1.00000</td>\n",
              "      <td>0.000000</td>\n",
              "      <td>1.000000</td>\n",
              "    </tr>\n",
              "    <tr>\n",
              "      <th>25%</th>\n",
              "      <td>33.000000</td>\n",
              "      <td>8.00000</td>\n",
              "      <td>103.000000</td>\n",
              "      <td>1.000000</td>\n",
              "    </tr>\n",
              "    <tr>\n",
              "      <th>50%</th>\n",
              "      <td>39.000000</td>\n",
              "      <td>16.00000</td>\n",
              "      <td>180.000000</td>\n",
              "      <td>2.000000</td>\n",
              "    </tr>\n",
              "    <tr>\n",
              "      <th>75%</th>\n",
              "      <td>48.000000</td>\n",
              "      <td>21.00000</td>\n",
              "      <td>319.000000</td>\n",
              "      <td>3.000000</td>\n",
              "    </tr>\n",
              "    <tr>\n",
              "      <th>max</th>\n",
              "      <td>95.000000</td>\n",
              "      <td>31.00000</td>\n",
              "      <td>4918.000000</td>\n",
              "      <td>63.000000</td>\n",
              "    </tr>\n",
              "  </tbody>\n",
              "</table>\n",
              "</div>\n",
              "      <button class=\"colab-df-convert\" onclick=\"convertToInteractive('df-3ba49cd7-4309-43e7-b38a-69aa1a6cfe69')\"\n",
              "              title=\"Convert this dataframe to an interactive table.\"\n",
              "              style=\"display:none;\">\n",
              "        \n",
              "  <svg xmlns=\"http://www.w3.org/2000/svg\" height=\"24px\"viewBox=\"0 0 24 24\"\n",
              "       width=\"24px\">\n",
              "    <path d=\"M0 0h24v24H0V0z\" fill=\"none\"/>\n",
              "    <path d=\"M18.56 5.44l.94 2.06.94-2.06 2.06-.94-2.06-.94-.94-2.06-.94 2.06-2.06.94zm-11 1L8.5 8.5l.94-2.06 2.06-.94-2.06-.94L8.5 2.5l-.94 2.06-2.06.94zm10 10l.94 2.06.94-2.06 2.06-.94-2.06-.94-.94-2.06-.94 2.06-2.06.94z\"/><path d=\"M17.41 7.96l-1.37-1.37c-.4-.4-.92-.59-1.43-.59-.52 0-1.04.2-1.43.59L10.3 9.45l-7.72 7.72c-.78.78-.78 2.05 0 2.83L4 21.41c.39.39.9.59 1.41.59.51 0 1.02-.2 1.41-.59l7.78-7.78 2.81-2.81c.8-.78.8-2.07 0-2.86zM5.41 20L4 18.59l7.72-7.72 1.47 1.35L5.41 20z\"/>\n",
              "  </svg>\n",
              "      </button>\n",
              "      \n",
              "  <style>\n",
              "    .colab-df-container {\n",
              "      display:flex;\n",
              "      flex-wrap:wrap;\n",
              "      gap: 12px;\n",
              "    }\n",
              "\n",
              "    .colab-df-convert {\n",
              "      background-color: #E8F0FE;\n",
              "      border: none;\n",
              "      border-radius: 50%;\n",
              "      cursor: pointer;\n",
              "      display: none;\n",
              "      fill: #1967D2;\n",
              "      height: 32px;\n",
              "      padding: 0 0 0 0;\n",
              "      width: 32px;\n",
              "    }\n",
              "\n",
              "    .colab-df-convert:hover {\n",
              "      background-color: #E2EBFA;\n",
              "      box-shadow: 0px 1px 2px rgba(60, 64, 67, 0.3), 0px 1px 3px 1px rgba(60, 64, 67, 0.15);\n",
              "      fill: #174EA6;\n",
              "    }\n",
              "\n",
              "    [theme=dark] .colab-df-convert {\n",
              "      background-color: #3B4455;\n",
              "      fill: #D2E3FC;\n",
              "    }\n",
              "\n",
              "    [theme=dark] .colab-df-convert:hover {\n",
              "      background-color: #434B5C;\n",
              "      box-shadow: 0px 1px 3px 1px rgba(0, 0, 0, 0.15);\n",
              "      filter: drop-shadow(0px 1px 2px rgba(0, 0, 0, 0.3));\n",
              "      fill: #FFFFFF;\n",
              "    }\n",
              "  </style>\n",
              "\n",
              "      <script>\n",
              "        const buttonEl =\n",
              "          document.querySelector('#df-3ba49cd7-4309-43e7-b38a-69aa1a6cfe69 button.colab-df-convert');\n",
              "        buttonEl.style.display =\n",
              "          google.colab.kernel.accessAllowed ? 'block' : 'none';\n",
              "\n",
              "        async function convertToInteractive(key) {\n",
              "          const element = document.querySelector('#df-3ba49cd7-4309-43e7-b38a-69aa1a6cfe69');\n",
              "          const dataTable =\n",
              "            await google.colab.kernel.invokeFunction('convertToInteractive',\n",
              "                                                     [key], {});\n",
              "          if (!dataTable) return;\n",
              "\n",
              "          const docLinkHtml = 'Like what you see? Visit the ' +\n",
              "            '<a target=\"_blank\" href=https://colab.research.google.com/notebooks/data_table.ipynb>data table notebook</a>'\n",
              "            + ' to learn more about interactive tables.';\n",
              "          element.innerHTML = '';\n",
              "          dataTable['output_type'] = 'display_data';\n",
              "          await google.colab.output.renderOutput(dataTable, element);\n",
              "          const docLink = document.createElement('div');\n",
              "          docLink.innerHTML = docLinkHtml;\n",
              "          element.appendChild(docLink);\n",
              "        }\n",
              "      </script>\n",
              "    </div>\n",
              "  </div>\n",
              "  "
            ]
          },
          "metadata": {},
          "execution_count": 9
        }
      ]
    },
    {
      "cell_type": "markdown",
      "source": [
        "#-----------------------------------------------------------------------------"
      ],
      "metadata": {
        "id": "jS8EZkHiBTZL"
      }
    },
    {
      "cell_type": "markdown",
      "source": [
        "## AGE - column"
      ],
      "metadata": {
        "id": "BvHs8xgBZMqM"
      }
    },
    {
      "cell_type": "code",
      "source": [
        "df.age.unique()"
      ],
      "metadata": {
        "colab": {
          "base_uri": "https://localhost:8080/"
        },
        "id": "z6Q3qLCkZSNd",
        "outputId": "1e91c930-e15b-4121-9970-2ff77abb59a5"
      },
      "execution_count": 10,
      "outputs": [
        {
          "output_type": "execute_result",
          "data": {
            "text/plain": [
              "array([58, 44, 33, 47, 35, 28, 42, 43, 41, 29, 53, 57, 51, 45, 60, 56, 32,\n",
              "       25, 40, 39, 52, 46, 36, 49, 59, 37, 50, 54, 55, 48, 24, 38, 31, 30,\n",
              "       27, 34, 23, 26, 61, 22, 21, 20, 66, 62, 83, 75, 67, 70, 65, 68, 64,\n",
              "       69, 72, 71, 19, 76, 85, 63, 90, 82, 73, 74, 78, 80, 94, 79, 77, 86,\n",
              "       95, 81, 18, 89, 84, 87, 92, 93, 88])"
            ]
          },
          "metadata": {},
          "execution_count": 10
        }
      ]
    },
    {
      "cell_type": "code",
      "source": [
        "df.age.describe()"
      ],
      "metadata": {
        "colab": {
          "base_uri": "https://localhost:8080/"
        },
        "id": "vjfL_VdxZSJ9",
        "outputId": "7fbe4726-e485-4dda-f67a-0d6f9d4d176c"
      },
      "execution_count": 11,
      "outputs": [
        {
          "output_type": "execute_result",
          "data": {
            "text/plain": [
              "count    45205.000000\n",
              "mean        40.937087\n",
              "std         10.619130\n",
              "min         18.000000\n",
              "25%         33.000000\n",
              "50%         39.000000\n",
              "75%         48.000000\n",
              "max         95.000000\n",
              "Name: age, dtype: float64"
            ]
          },
          "metadata": {},
          "execution_count": 11
        }
      ]
    },
    {
      "cell_type": "code",
      "source": [
        "df.age.plot()"
      ],
      "metadata": {
        "colab": {
          "base_uri": "https://localhost:8080/",
          "height": 282
        },
        "id": "aNmeQ1R-bK2i",
        "outputId": "35547165-7ab6-44e2-c1d7-514c638154a3"
      },
      "execution_count": 12,
      "outputs": [
        {
          "output_type": "execute_result",
          "data": {
            "text/plain": [
              "<AxesSubplot:>"
            ]
          },
          "metadata": {},
          "execution_count": 12
        },
        {
          "output_type": "display_data",
          "data": {
            "text/plain": [
              "<Figure size 432x288 with 1 Axes>"
            ],
            "image/png": "[encoded data removed]"
          },
          "metadata": {
            "needs_background": "light"
          }
        }
      ]
    },
    {
      "cell_type": "code",
      "source": [
        "q1 = df.age.quantile(0.25)\n",
        "q3 = df.age.quantile(0.75)\n",
        "iqr = q3 - q1\n",
        "upper = q3 + (iqr * 1.5)\n",
        "lower = q1 - (iqr * 1.5)\n",
        "print('Lower thersold : ', lower,'\\n'\n",
        "      'Upper thersold : ', upper)\n",
        "print('count of greater than 70 age : ', len(df[df['age'] > 70.5]))\n",
        "\n",
        "# Finding lower & upper threshold for iqr\n",
        "# Identify'g count of age who are greater than 70"
      ],
      "metadata": {
        "colab": {
          "base_uri": "https://localhost:8080/"
        },
        "id": "H7DwDXfTbKy5",
        "outputId": "5fd3cad3-2b5f-47b8-d68f-9f7027b9a77a"
      },
      "execution_count": 13,
      "outputs": [
        {
          "output_type": "stream",
          "name": "stdout",
          "text": [
            "Lower thersold :  10.5 \n",
            "Upper thersold :  70.5\n",
            "count of greater than 70 age :  487\n"
          ]
        }
      ]
    },
    {
      "cell_type": "code",
      "source": [
        "print('Age > 70 & yes : ', len(df[(df['age'] > 70) & (df['y'] == 'yes')]))\n",
        "print('Age > 70 & no : ',len(df[(df['age'] > 70) & (df['y'] == 'no')]))\n",
        "print('Age < 70 & yes : ',len(df[(df['age'] < 70) & (df['y'] == 'yes')]))\n",
        "print('Age < 70 & no : ',len(df[(df['age'] < 70) & (df['y'] == 'no')]))\n"
      ],
      "metadata": {
        "colab": {
          "base_uri": "https://localhost:8080/"
        },
        "id": "ZethdqvCbKwA",
        "outputId": "a92ff356-5035-497e-c712-9bb3cb803614"
      },
      "execution_count": 14,
      "outputs": [
        {
          "output_type": "stream",
          "name": "stdout",
          "text": [
            "Age > 70 & yes :  218\n",
            "Age > 70 & no :  269\n",
            "Age < 70 & yes :  5054\n",
            "Age < 70 & no :  39597\n"
          ]
        }
      ]
    },
    {
      "cell_type": "markdown",
      "source": [
        "## JOB - Column"
      ],
      "metadata": {
        "id": "Xot9I4KbcGl7"
      }
    },
    {
      "cell_type": "code",
      "source": [
        "df.job.value_counts()\n",
        "\n",
        "# displays count value of different job-categories from \"job-col\"\n",
        "# job-categories: \n",
        "#        (blue-collar, management, technician, admin, services,          \n",
        "#        retired, self-employed, entrepreneur, unemployed,      \n",
        "#        housemaid, student, unknown)"
      ],
      "metadata": {
        "colab": {
          "base_uri": "https://localhost:8080/"
        },
        "id": "1biYWIoBcMpo",
        "outputId": "52c89395-0ec4-44ff-b8cd-9107b8337f23"
      },
      "execution_count": 15,
      "outputs": [
        {
          "output_type": "execute_result",
          "data": {
            "text/plain": [
              "blue-collar      9730\n",
              "management       9457\n",
              "technician       7596\n",
              "admin.           5170\n",
              "services         4153\n",
              "retired          2264\n",
              "self-employed    1579\n",
              "entrepreneur     1487\n",
              "unemployed       1303\n",
              "housemaid        1240\n",
              "student           938\n",
              "unknown           288\n",
              "Name: job, dtype: int64"
            ]
          },
          "metadata": {},
          "execution_count": 15
        }
      ]
    },
    {
      "cell_type": "code",
      "source": [
        "len(df[(df['job'] == 'unknown') & (df['education_qual'] == 'unknown') & (df['call_type'] == 'unknown') & (df['prev_outcome'] == 'unknown')])\n"
      ],
      "metadata": {
        "colab": {
          "base_uri": "https://localhost:8080/"
        },
        "id": "HvalpHfncjpX",
        "outputId": "a6125707-5deb-42de-9fce-3971e279ab47"
      },
      "execution_count": 16,
      "outputs": [
        {
          "output_type": "execute_result",
          "data": {
            "text/plain": [
              "54"
            ]
          },
          "metadata": {},
          "execution_count": 16
        }
      ]
    },
    {
      "cell_type": "code",
      "source": [
        "df.groupby(['job', 'y'])['y'].count()\n",
        "\n",
        "# grouping the job column & y ---> to differentiate the yes/no for imbalancing"
      ],
      "metadata": {
        "colab": {
          "base_uri": "https://localhost:8080/"
        },
        "id": "RdqQMMAOcxSp",
        "outputId": "9b1e2a15-c0c0-4bc8-9fa8-86031a2cb4f5"
      },
      "execution_count": 17,
      "outputs": [
        {
          "output_type": "execute_result",
          "data": {
            "text/plain": [
              "job            y  \n",
              "admin.         no     4539\n",
              "               yes     631\n",
              "blue-collar    no     9022\n",
              "               yes     708\n",
              "entrepreneur   no     1364\n",
              "               yes     123\n",
              "housemaid      no     1131\n",
              "               yes     109\n",
              "management     no     8156\n",
              "               yes    1301\n",
              "retired        no     1748\n",
              "               yes     516\n",
              "self-employed  no     1392\n",
              "               yes     187\n",
              "services       no     3784\n",
              "               yes     369\n",
              "student        no      669\n",
              "               yes     269\n",
              "technician     no     6756\n",
              "               yes     840\n",
              "unemployed     no     1101\n",
              "               yes     202\n",
              "unknown        no      254\n",
              "               yes      34\n",
              "Name: y, dtype: int64"
            ]
          },
          "metadata": {},
          "execution_count": 17
        }
      ]
    },
    {
      "cell_type": "code",
      "source": [
        "df.job.unique()\n",
        "\n",
        "# displays all the job-roles"
      ],
      "metadata": {
        "colab": {
          "base_uri": "https://localhost:8080/"
        },
        "id": "ql8gcy5tc_CU",
        "outputId": "698cb4ec-3b77-4d13-b451-06dada95bc15"
      },
      "execution_count": 18,
      "outputs": [
        {
          "output_type": "execute_result",
          "data": {
            "text/plain": [
              "array(['management', 'technician', 'entrepreneur', 'blue-collar',\n",
              "       'unknown', 'retired', 'admin.', 'services', 'self-employed',\n",
              "       'unemployed', 'housemaid', 'student'], dtype=object)"
            ]
          },
          "metadata": {},
          "execution_count": 18
        }
      ]
    },
    {
      "cell_type": "code",
      "source": [
        "for a in['management', 'technician', 'entrepreneur', 'blue-collar',\n",
        "       'unknown', 'retired', 'admin.', 'services', 'self-employed',\n",
        "       'unemployed', 'housemaid', 'student'] :\n",
        "    print('%-Conversion of job-role --> ', a, ' : ', ((  (len(df[(df['job'] == a) & (df['y'] == 'yes')]))  /len(df[df['job'] == a]) )*100 ))\n",
        "\n",
        "# converting all job_role (using for-loop) into %"
      ],
      "metadata": {
        "colab": {
          "base_uri": "https://localhost:8080/"
        },
        "id": "167kwbOLdUoW",
        "outputId": "efa223d1-95f7-4a83-ff7c-039ec7e0990c"
      },
      "execution_count": 19,
      "outputs": [
        {
          "output_type": "stream",
          "name": "stdout",
          "text": [
            "%-Conversion of job-role -->  management  :  13.757005392830706\n",
            "%-Conversion of job-role -->  technician  :  11.058451816745656\n",
            "%-Conversion of job-role -->  entrepreneur  :  8.271687962340282\n",
            "%-Conversion of job-role -->  blue-collar  :  7.276464542651594\n",
            "%-Conversion of job-role -->  unknown  :  11.805555555555555\n",
            "%-Conversion of job-role -->  retired  :  22.791519434628977\n",
            "%-Conversion of job-role -->  admin.  :  12.205029013539653\n",
            "%-Conversion of job-role -->  services  :  8.885143269925354\n",
            "%-Conversion of job-role -->  self-employed  :  11.842938568714375\n",
            "%-Conversion of job-role -->  unemployed  :  15.502686108979278\n",
            "%-Conversion of job-role -->  housemaid  :  8.790322580645162\n",
            "%-Conversion of job-role -->  student  :  28.678038379530918\n"
          ]
        }
      ]
    },
    {
      "cell_type": "markdown",
      "source": [
        "## MARITAL - Column"
      ],
      "metadata": {
        "id": "UcTvrhhedky7"
      }
    },
    {
      "cell_type": "code",
      "source": [
        "df.marital.value_counts()\n",
        "\n",
        "# displays count value of marital-status(single/maried/divorce) from \"marital-col\""
      ],
      "metadata": {
        "colab": {
          "base_uri": "https://localhost:8080/"
        },
        "id": "H1H0FFpmdscu",
        "outputId": "63e2b281-97ff-4a4e-b52f-3bbde2619172"
      },
      "execution_count": 20,
      "outputs": [
        {
          "output_type": "execute_result",
          "data": {
            "text/plain": [
              "married     27210\n",
              "single      12788\n",
              "divorced     5207\n",
              "Name: marital, dtype: int64"
            ]
          },
          "metadata": {},
          "execution_count": 20
        }
      ]
    },
    {
      "cell_type": "code",
      "source": [
        "df.groupby(['marital', 'y'])['y'].count()\n",
        "\n",
        "# grouping the marital column & y --> to know yes/no (identify imbalancing)\n",
        "# marital status: \n",
        "#           (married/divorced/single)"
      ],
      "metadata": {
        "colab": {
          "base_uri": "https://localhost:8080/"
        },
        "id": "I3bDGWLKd00h",
        "outputId": "ebe2620e-a68d-4086-8309-4ccee316dba7"
      },
      "execution_count": 21,
      "outputs": [
        {
          "output_type": "execute_result",
          "data": {
            "text/plain": [
              "marital   y  \n",
              "divorced  no      4585\n",
              "          yes      622\n",
              "married   no     24455\n",
              "          yes     2755\n",
              "single    no     10876\n",
              "          yes     1912\n",
              "Name: y, dtype: int64"
            ]
          },
          "metadata": {},
          "execution_count": 21
        }
      ]
    },
    {
      "cell_type": "code",
      "source": [
        "df.marital.unique()\n",
        "\n",
        "# displays all-categories from marital-col"
      ],
      "metadata": {
        "colab": {
          "base_uri": "https://localhost:8080/"
        },
        "id": "n4OVWUjedwQz",
        "outputId": "9491d616-e2df-49a5-bf04-0d780a478501"
      },
      "execution_count": 22,
      "outputs": [
        {
          "output_type": "execute_result",
          "data": {
            "text/plain": [
              "array(['married', 'single', 'divorced'], dtype=object)"
            ]
          },
          "metadata": {},
          "execution_count": 22
        }
      ]
    },
    {
      "cell_type": "code",
      "source": [
        "for a in['married', 'single', 'divorced'] :\n",
        "    print('%-Conversion of marital-status --> ', a, ' : ', ((  (len(df[(df['marital'] == a) & (df['y'] == 'yes')]))  /len(df[df['marital'] == a]) )*100 ))\n",
        "\n",
        "# Converting marital-status(using for loop) into %"
      ],
      "metadata": {
        "colab": {
          "base_uri": "https://localhost:8080/"
        },
        "id": "P_4vLdp3gPHA",
        "outputId": "ac5d4c5b-b681-4778-b171-88e066458f93"
      },
      "execution_count": 23,
      "outputs": [
        {
          "output_type": "stream",
          "name": "stdout",
          "text": [
            "%-Conversion of marital-status -->  married  :  10.124954061006983\n",
            "%-Conversion of marital-status -->  single  :  14.95151704723178\n",
            "%-Conversion of marital-status -->  divorced  :  11.945458037257538\n"
          ]
        }
      ]
    },
    {
      "cell_type": "markdown",
      "source": [
        "## EDUCATION_QUAL - Column"
      ],
      "metadata": {
        "id": "0OQsDiKigmKq"
      }
    },
    {
      "cell_type": "code",
      "source": [
        "df.education_qual.value_counts()\n",
        "\n",
        "# displays count value of education_qualification categories(prim/second/terit) from \"education_qual-col\""
      ],
      "metadata": {
        "colab": {
          "base_uri": "https://localhost:8080/"
        },
        "id": "Cila0n1dgsHV",
        "outputId": "25842593-619a-491a-cb32-5820367b231c"
      },
      "execution_count": 24,
      "outputs": [
        {
          "output_type": "execute_result",
          "data": {
            "text/plain": [
              "secondary    23199\n",
              "tertiary     13299\n",
              "primary       6850\n",
              "unknown       1857\n",
              "Name: education_qual, dtype: int64"
            ]
          },
          "metadata": {},
          "execution_count": 24
        }
      ]
    },
    {
      "cell_type": "code",
      "source": [
        "df.groupby(['education_qual', 'y'])['y'].count()\n",
        "\n",
        "# grouping the educational_qual col & y ---> to differentiate yes/no to know imbalancing"
      ],
      "metadata": {
        "colab": {
          "base_uri": "https://localhost:8080/"
        },
        "id": "yU0dThwXgskr",
        "outputId": "5bcfbacc-b736-4c05-996a-06241fad0115"
      },
      "execution_count": 25,
      "outputs": [
        {
          "output_type": "execute_result",
          "data": {
            "text/plain": [
              "education_qual  y  \n",
              "primary         no      6259\n",
              "                yes      591\n",
              "secondary       no     20749\n",
              "                yes     2450\n",
              "tertiary        no     11303\n",
              "                yes     1996\n",
              "unknown         no      1605\n",
              "                yes      252\n",
              "Name: y, dtype: int64"
            ]
          },
          "metadata": {},
          "execution_count": 25
        }
      ]
    },
    {
      "cell_type": "code",
      "source": [
        "df.education_qual.unique()\n",
        "\n",
        "# displays all form of education from \"educationa_qual  - col\""
      ],
      "metadata": {
        "colab": {
          "base_uri": "https://localhost:8080/"
        },
        "id": "LkLcE7Pygsc9",
        "outputId": "c30d38c5-1df7-4c2d-b933-d631247a6c92"
      },
      "execution_count": 26,
      "outputs": [
        {
          "output_type": "execute_result",
          "data": {
            "text/plain": [
              "array(['tertiary', 'secondary', 'unknown', 'primary'], dtype=object)"
            ]
          },
          "metadata": {},
          "execution_count": 26
        }
      ]
    },
    {
      "cell_type": "code",
      "source": [
        "for a in ['tertiary', 'secondary', 'unknown', 'primary'] :\n",
        "    print('%-Conversion of education_qual  --> ', a, ' : ', ((  (len(df[(df['education_qual'] == a) & (df['y'] == 'yes')]))  /len(df[df['education_qual'] == a]) )*100 ))\n",
        "\n",
        "# Converting education_qual category(using for loop) into %"
      ],
      "metadata": {
        "colab": {
          "base_uri": "https://localhost:8080/"
        },
        "id": "dr5Jrh_ci65x",
        "outputId": "c21c7040-0467-464b-ef4b-1c1a184da4cc"
      },
      "execution_count": 27,
      "outputs": [
        {
          "output_type": "stream",
          "name": "stdout",
          "text": [
            "%-Conversion of education_qual  -->  tertiary  :  15.008647266711783\n",
            "%-Conversion of education_qual  -->  secondary  :  10.560800034484245\n",
            "%-Conversion of education_qual  -->  unknown  :  13.5702746365105\n",
            "%-Conversion of education_qual  -->  primary  :  8.627737226277372\n"
          ]
        }
      ]
    },
    {
      "cell_type": "markdown",
      "source": [
        "## CALL TYPE - Column"
      ],
      "metadata": {
        "id": "vuA05czYj_Rs"
      }
    },
    {
      "cell_type": "code",
      "source": [
        "df.call_type.value_counts()\n",
        "\n",
        "# displays count value of different mode from \"Call_type - col\""
      ],
      "metadata": {
        "colab": {
          "base_uri": "https://localhost:8080/"
        },
        "id": "J4ow8uEdkJnG",
        "outputId": "efd4e04c-5ea5-4685-8e6b-521e71b1fc44"
      },
      "execution_count": 28,
      "outputs": [
        {
          "output_type": "execute_result",
          "data": {
            "text/plain": [
              "cellular     29282\n",
              "unknown      13017\n",
              "telephone     2906\n",
              "Name: call_type, dtype: int64"
            ]
          },
          "metadata": {},
          "execution_count": 28
        }
      ]
    },
    {
      "cell_type": "code",
      "source": [
        "df.groupby(['call_type', 'y'])['y'].count()\n",
        "\n",
        "# grouping the call_type col & y ---> to differentiate yes/no for imbalancing"
      ],
      "metadata": {
        "colab": {
          "base_uri": "https://localhost:8080/"
        },
        "id": "Oc_KOPJUkKRd",
        "outputId": "5bbf20ec-cb8a-4136-b024-1e4646114dc1"
      },
      "execution_count": 29,
      "outputs": [
        {
          "output_type": "execute_result",
          "data": {
            "text/plain": [
              "call_type  y  \n",
              "cellular   no     24913\n",
              "           yes     4369\n",
              "telephone  no      2516\n",
              "           yes      390\n",
              "unknown    no     12487\n",
              "           yes      530\n",
              "Name: y, dtype: int64"
            ]
          },
          "metadata": {},
          "execution_count": 29
        }
      ]
    },
    {
      "cell_type": "markdown",
      "source": [
        "## MONTH - Column"
      ],
      "metadata": {
        "id": "cyWwSJpZmseB"
      }
    },
    {
      "cell_type": "code",
      "source": [
        "df['mon'].value_counts()\n",
        "\n",
        "# displays count value of month-name from \"mon - col\""
      ],
      "metadata": {
        "colab": {
          "base_uri": "https://localhost:8080/"
        },
        "id": "6vh5V5IckKGb",
        "outputId": "c9a64031-f0c8-46a3-8bbb-da50e3b5ee71"
      },
      "execution_count": 30,
      "outputs": [
        {
          "output_type": "execute_result",
          "data": {
            "text/plain": [
              "may    13765\n",
              "jul     6894\n",
              "aug     6245\n",
              "jun     5339\n",
              "nov     3970\n",
              "apr     2932\n",
              "feb     2649\n",
              "jan     1403\n",
              "oct      738\n",
              "sep      579\n",
              "mar      477\n",
              "dec      214\n",
              "Name: mon, dtype: int64"
            ]
          },
          "metadata": {},
          "execution_count": 30
        }
      ]
    },
    {
      "cell_type": "code",
      "source": [
        "df.groupby(['mon', 'y'])['y'].count()\n",
        "\n",
        "# grouping the mon-col & y ---> to differentiate yes/no for imbalancing"
      ],
      "metadata": {
        "colab": {
          "base_uri": "https://localhost:8080/"
        },
        "id": "3knjfvlXkKCz",
        "outputId": "ee4e7805-0cd0-45bd-94a4-036f6997a224"
      },
      "execution_count": 31,
      "outputs": [
        {
          "output_type": "execute_result",
          "data": {
            "text/plain": [
              "mon  y  \n",
              "apr  no      2355\n",
              "     yes      577\n",
              "aug  no      5557\n",
              "     yes      688\n",
              "dec  no       114\n",
              "     yes      100\n",
              "feb  no      2208\n",
              "     yes      441\n",
              "jan  no      1261\n",
              "     yes      142\n",
              "jul  no      6267\n",
              "     yes      627\n",
              "jun  no      4793\n",
              "     yes      546\n",
              "mar  no       229\n",
              "     yes      248\n",
              "may  no     12840\n",
              "     yes      925\n",
              "nov  no      3567\n",
              "     yes      403\n",
              "oct  no       415\n",
              "     yes      323\n",
              "sep  no       310\n",
              "     yes      269\n",
              "Name: y, dtype: int64"
            ]
          },
          "metadata": {},
          "execution_count": 31
        }
      ]
    },
    {
      "cell_type": "code",
      "source": [
        "df['mon'].unique()\n",
        "\n",
        "# displays all - month names from \"mon-col\""
      ],
      "metadata": {
        "colab": {
          "base_uri": "https://localhost:8080/"
        },
        "id": "FU0ew8qrnmgh",
        "outputId": "c0186a7c-f688-4e17-b0c5-c0c39ed97463"
      },
      "execution_count": 32,
      "outputs": [
        {
          "output_type": "execute_result",
          "data": {
            "text/plain": [
              "array(['may', 'jun', 'jul', 'aug', 'oct', 'nov', 'dec', 'jan', 'feb',\n",
              "       'mar', 'apr', 'sep'], dtype=object)"
            ]
          },
          "metadata": {},
          "execution_count": 32
        }
      ]
    },
    {
      "cell_type": "code",
      "source": [
        "for a in['may', 'jun', 'jul', 'aug', 'oct', 'nov', 'dec', 'jan', 'feb', 'mar', 'apr', 'sep'] :\n",
        "    print('%-Conversion of month  --> ', a, ' : ', ((  (len(df[(df['mon'] == a) & (df['y'] == 'yes')]))  /len(df[df['mon'] == a]) )*100 ))\n",
        "\n",
        "# Converting all_months(using for loop) into %"
      ],
      "metadata": {
        "colab": {
          "base_uri": "https://localhost:8080/"
        },
        "id": "q7FpnIPvnmV2",
        "outputId": "28daad15-83fa-446b-deac-23ced01fc61e"
      },
      "execution_count": 33,
      "outputs": [
        {
          "output_type": "stream",
          "name": "stdout",
          "text": [
            "%-Conversion of month  -->  may  :  6.719941881583727\n",
            "%-Conversion of month  -->  jun  :  10.226634201161266\n",
            "%-Conversion of month  -->  jul  :  9.094865100087032\n",
            "%-Conversion of month  -->  aug  :  11.016813450760608\n",
            "%-Conversion of month  -->  oct  :  43.766937669376695\n",
            "%-Conversion of month  -->  nov  :  10.151133501259446\n",
            "%-Conversion of month  -->  dec  :  46.728971962616825\n",
            "%-Conversion of month  -->  jan  :  10.121168923734853\n",
            "%-Conversion of month  -->  feb  :  16.64779161947905\n",
            "%-Conversion of month  -->  mar  :  51.99161425576519\n",
            "%-Conversion of month  -->  apr  :  19.679399727148706\n",
            "%-Conversion of month  -->  sep  :  46.45941278065631\n"
          ]
        }
      ]
    },
    {
      "cell_type": "markdown",
      "source": [
        "## CALL DURATION - Column"
      ],
      "metadata": {
        "id": "ZBKpBW1cotNz"
      }
    },
    {
      "cell_type": "code",
      "source": [
        "df.dur.describe()"
      ],
      "metadata": {
        "colab": {
          "base_uri": "https://localhost:8080/"
        },
        "id": "Jh8Q3tRenmSc",
        "outputId": "c0792abd-01c9-44e1-b6da-a404dfdcd45b"
      },
      "execution_count": 34,
      "outputs": [
        {
          "output_type": "execute_result",
          "data": {
            "text/plain": [
              "count    45205.000000\n",
              "mean       258.183055\n",
              "std        257.538504\n",
              "min          0.000000\n",
              "25%        103.000000\n",
              "50%        180.000000\n",
              "75%        319.000000\n",
              "max       4918.000000\n",
              "Name: dur, dtype: float64"
            ]
          },
          "metadata": {},
          "execution_count": 34
        }
      ]
    },
    {
      "cell_type": "code",
      "source": [
        "q1 = df.dur.quantile(0.25)\n",
        "q3 = df.dur.quantile(0.75)\n",
        "iqr = q3 - q1\n",
        "upper = q3 + (iqr * 1.5)\n",
        "lower = q1 - (iqr * 1.5)\n",
        "print('Lower thersold : ', lower,'\\n'\n",
        "      'Upper thersold : ', upper)\n",
        "print('count of greater than 643 duration : ', len(df[df['dur'] > 643]))\n",
        "\n",
        "# Finding lower & upper threshold for iqr\n",
        "# Identify'g count of who have greater than of 643 - callduration"
      ],
      "metadata": {
        "colab": {
          "base_uri": "https://localhost:8080/"
        },
        "id": "ADr3NkXpo7LD",
        "outputId": "33c761b6-b953-41c9-923d-2416b7c26696"
      },
      "execution_count": 35,
      "outputs": [
        {
          "output_type": "stream",
          "name": "stdout",
          "text": [
            "Lower thersold :  -221.0 \n",
            "Upper thersold :  643.0\n",
            "count of greater than 643 duration :  3235\n"
          ]
        }
      ]
    },
    {
      "cell_type": "code",
      "source": [
        "df.dur.plot()"
      ],
      "metadata": {
        "colab": {
          "base_uri": "https://localhost:8080/",
          "height": 282
        },
        "id": "L7KyAcLro7Hq",
        "outputId": "1e9a722a-58d6-4754-812b-353fd3b48bdb"
      },
      "execution_count": 36,
      "outputs": [
        {
          "output_type": "execute_result",
          "data": {
            "text/plain": [
              "<AxesSubplot:>"
            ]
          },
          "metadata": {},
          "execution_count": 36
        },
        {
          "output_type": "display_data",
          "data": {
            "text/plain": [
              "<Figure size 432x288 with 1 Axes>"
            ],
            "image/png": "[encoded data removed]"
          },
          "metadata": {
            "needs_background": "light"
          }
        }
      ]
    },
    {
      "cell_type": "code",
      "source": [
        "print('Duration > 643 & yes : ', len(df[(df['dur'] > 643) & (df['y'] == 'yes')]))\n",
        "print('Duration > 643 & no : ',len(df[(df['dur'] > 643) & (df['y'] == 'no')]))\n",
        "print('Duration < 643 & yes : ',len(df[(df['dur'] < 643) & (df['y'] == 'yes')]))\n",
        "print('Duration < 643 & no : ',len(df[(df['dur'] < 643) & (df['y'] == 'no')]))\n"
      ],
      "metadata": {
        "colab": {
          "base_uri": "https://localhost:8080/"
        },
        "id": "MLYR9vX_qBGU",
        "outputId": "5d109019-d068-4f78-8525-76a0ff0a14f4"
      },
      "execution_count": 37,
      "outputs": [
        {
          "output_type": "stream",
          "name": "stdout",
          "text": [
            "Duration > 643 & yes :  1651\n",
            "Duration > 643 & no :  1584\n",
            "Duration < 643 & yes :  3636\n",
            "Duration < 643 & no :  38322\n"
          ]
        }
      ]
    },
    {
      "cell_type": "markdown",
      "source": [
        "## NUM_CALLS - Column"
      ],
      "metadata": {
        "id": "Kv7903T5qLmZ"
      }
    },
    {
      "cell_type": "code",
      "source": [
        "q1 = df.num_calls.quantile(0.25)\n",
        "q3 = df.num_calls.quantile(0.75)\n",
        "iqr = q3 - q1\n",
        "upper = q3 + (iqr * 1.5)\n",
        "lower = q1 - (iqr * 1.5)\n",
        "print('Lower thersold : ', lower,'\\n'\n",
        "      'Upper thersold : ', upper)\n",
        "print('count of greater than 6 calls : ', len(df[df['num_calls'] > 6]))\n",
        "\n",
        "# Finding lower & upper threshold for iqr\n",
        "# Identify'g count of who have greater than of 6-calls from \"num_calls col\""
      ],
      "metadata": {
        "colab": {
          "base_uri": "https://localhost:8080/"
        },
        "id": "-u5-vhmkqcpf",
        "outputId": "21021f50-2ff3-4b54-f3e3-7bfa5e420250"
      },
      "execution_count": 38,
      "outputs": [
        {
          "output_type": "stream",
          "name": "stdout",
          "text": [
            "Lower thersold :  -2.0 \n",
            "Upper thersold :  6.0\n",
            "count of greater than 6 calls :  3064\n"
          ]
        }
      ]
    },
    {
      "cell_type": "code",
      "source": [
        "df.num_calls.plot()"
      ],
      "metadata": {
        "colab": {
          "base_uri": "https://localhost:8080/",
          "height": 282
        },
        "id": "w3TOklgSqc-G",
        "outputId": "9bebf7f6-730b-4b55-c5ba-9750f1c55d57"
      },
      "execution_count": 39,
      "outputs": [
        {
          "output_type": "execute_result",
          "data": {
            "text/plain": [
              "<AxesSubplot:>"
            ]
          },
          "metadata": {},
          "execution_count": 39
        },
        {
          "output_type": "display_data",
          "data": {
            "text/plain": [
              "<Figure size 432x288 with 1 Axes>"
            ],
            "image/png": "[encoded data removed]"
          },
          "metadata": {
            "needs_background": "light"
          }
        }
      ]
    },
    {
      "cell_type": "code",
      "source": [
        "print('Calls > 6 & yes : ', len(df[(df['num_calls'] > 6) & (df['y'] == 'yes')]))\n",
        "print('Calls > 6 & no : ',len(df[(df['num_calls'] > 6) & (df['y'] == 'no')]))\n",
        "print('Calls < 6 & yes : ',len(df[(df['num_calls'] < 6) & (df['y'] == 'yes')]))\n",
        "print('Calls < 6 & no : ',len(df[(df['num_calls'] < 6) & (df['y'] == 'no')]))"
      ],
      "metadata": {
        "colab": {
          "base_uri": "https://localhost:8080/"
        },
        "id": "HkrFfagVrKx5",
        "outputId": "ecd9ad17-69b3-4e6f-bf6b-6ac1f24b5d10"
      },
      "execution_count": 40,
      "outputs": [
        {
          "output_type": "stream",
          "name": "stdout",
          "text": [
            "Calls > 6 & yes :  161\n",
            "Calls > 6 & no :  2903\n",
            "Calls < 6 & yes :  5036\n",
            "Calls < 6 & no :  35814\n"
          ]
        }
      ]
    },
    {
      "cell_type": "markdown",
      "source": [
        "## PREVIOUS_Outcome - Column"
      ],
      "metadata": {
        "id": "QOe-ZoacthIX"
      }
    },
    {
      "cell_type": "code",
      "source": [
        "df.prev_outcome.value_counts()\n",
        "\n",
        "# Displays the count value of all result of \"Prev_outcome-col\"\n",
        "# here Results:- (Unknown, Success, failure, other)"
      ],
      "metadata": {
        "colab": {
          "base_uri": "https://localhost:8080/"
        },
        "id": "VuEWmJuRrKuT",
        "outputId": "9b10b792-ecfd-47ff-daf4-418a582fd336"
      },
      "execution_count": 41,
      "outputs": [
        {
          "output_type": "execute_result",
          "data": {
            "text/plain": [
              "unknown    36953\n",
              "failure     4901\n",
              "other       1840\n",
              "success     1511\n",
              "Name: prev_outcome, dtype: int64"
            ]
          },
          "metadata": {},
          "execution_count": 41
        }
      ]
    },
    {
      "cell_type": "code",
      "source": [
        "df.prev_outcome.unique()\n",
        "\n",
        "# Display the prev-outcome unique values"
      ],
      "metadata": {
        "colab": {
          "base_uri": "https://localhost:8080/"
        },
        "id": "A8tepalytuBP",
        "outputId": "69011d67-f527-4f0f-dbee-fa63825f81b5"
      },
      "execution_count": 42,
      "outputs": [
        {
          "output_type": "execute_result",
          "data": {
            "text/plain": [
              "array(['unknown', 'failure', 'other', 'success'], dtype=object)"
            ]
          },
          "metadata": {},
          "execution_count": 42
        }
      ]
    },
    {
      "cell_type": "code",
      "source": [
        "for a in ['unknown', 'failure', 'other', 'success'] :\n",
        "    print('%-conversion of Result --> ', a, ' : ', (( (len(df[(df['prev_outcome'] == a) & (df['y'] == 'yes')]))  /len(df[df['prev_outcome'] == a]) )*100 ))\n",
        "\n",
        "# Converting all prev_outcome result(using for loop) into %"
      ],
      "metadata": {
        "colab": {
          "base_uri": "https://localhost:8080/"
        },
        "id": "-B3G-NPmtt90",
        "outputId": "fdb9e94a-ce58-4e17-e31c-f086fe104347"
      },
      "execution_count": 43,
      "outputs": [
        {
          "output_type": "stream",
          "name": "stdout",
          "text": [
            "%-conversion of Result -->  unknown  :  9.162990826184613\n",
            "%-conversion of Result -->  failure  :  12.609671495613139\n",
            "%-conversion of Result -->  other  :  16.684782608695652\n",
            "%-conversion of Result -->  success  :  64.72534745201854\n"
          ]
        }
      ]
    },
    {
      "cell_type": "markdown",
      "source": [
        "## Target y - column"
      ],
      "metadata": {
        "id": "GUZ58hv8u1Y1"
      }
    },
    {
      "cell_type": "code",
      "source": [
        "df.y.value_counts()\n",
        "\n",
        "# displays the target y --> count of both (yes & no)"
      ],
      "metadata": {
        "colab": {
          "base_uri": "https://localhost:8080/"
        },
        "id": "kCmV7_7ZvGda",
        "outputId": "058e59f9-504b-4c8b-f2a5-c84d670cdc0b"
      },
      "execution_count": 44,
      "outputs": [
        {
          "output_type": "execute_result",
          "data": {
            "text/plain": [
              "no     39916\n",
              "yes     5289\n",
              "Name: y, dtype: int64"
            ]
          },
          "metadata": {},
          "execution_count": 44
        }
      ]
    },
    {
      "cell_type": "code",
      "source": [
        "df.to_csv('cleaned_dataset.csv')"
      ],
      "metadata": {
        "id": "GghFbvvQvLO6"
      },
      "execution_count": 45,
      "outputs": []
    },
    {
      "cell_type": "code",
      "source": [
        "df.columns"
      ],
      "metadata": {
        "colab": {
          "base_uri": "https://localhost:8080/"
        },
        "id": "nvln31ZevLH0",
        "outputId": "adb73f9a-1244-4527-a4f6-ff356952b1b7"
      },
      "execution_count": 46,
      "outputs": [
        {
          "output_type": "execute_result",
          "data": {
            "text/plain": [
              "Index(['age', 'job', 'marital', 'education_qual', 'call_type', 'day', 'mon',\n",
              "       'dur', 'num_calls', 'prev_outcome', 'y'],\n",
              "      dtype='object')"
            ]
          },
          "metadata": {},
          "execution_count": 46
        }
      ]
    },
    {
      "cell_type": "markdown",
      "source": [
        "#-----------------------------------------------------------------------------"
      ],
      "metadata": {
        "id": "0GxXvd1FBkmw"
      }
    },
    {
      "cell_type": "markdown",
      "source": [
        "# **EDA**"
      ],
      "metadata": {
        "id": "flMZUpLSvpG9"
      }
    },
    {
      "cell_type": "code",
      "source": [
        "df2 = df[(df['y'] == 'yes')]"
      ],
      "metadata": {
        "id": "E5gpEJXFvtKV"
      },
      "execution_count": 47,
      "outputs": []
    },
    {
      "cell_type": "code",
      "source": [
        "sns.boxplot(data = df, x = 'age', y = 'y')"
      ],
      "metadata": {
        "colab": {
          "base_uri": "https://localhost:8080/",
          "height": 296
        },
        "id": "wcNJlilZvx1S",
        "outputId": "ac81cf60-45d3-40be-d695-417b94ba4270"
      },
      "execution_count": 48,
      "outputs": [
        {
          "output_type": "execute_result",
          "data": {
            "text/plain": [
              "<AxesSubplot:xlabel='age', ylabel='y'>"
            ]
          },
          "metadata": {},
          "execution_count": 48
        },
        {
          "output_type": "display_data",
          "data": {
            "text/plain": [
              "<Figure size 432x288 with 1 Axes>"
            ],
            "image/png": "[encoded data removed]"
          },
          "metadata": {
            "needs_background": "light"
          }
        }
      ]
    },
    {
      "cell_type": "markdown",
      "source": [
        "### **JOB - col**\n",
        " >1. Job in df"
      ],
      "metadata": {
        "id": "3siRTOBTxohH"
      }
    },
    {
      "cell_type": "code",
      "source": [
        "plot = sns.countplot(data = df, x = 'job')\n",
        "plot.tick_params(axis='x',rotation=90)"
      ],
      "metadata": {
        "colab": {
          "base_uri": "https://localhost:8080/",
          "height": 340
        },
        "id": "sRN5huB0wo0h",
        "outputId": "e0971883-a9fa-40e5-d140-062217826a4d"
      },
      "execution_count": 49,
      "outputs": [
        {
          "output_type": "display_data",
          "data": {
            "text/plain": [
              "<Figure size 432x288 with 1 Axes>"
            ],
            "image/png": "[encoded data removed]"
          },
          "metadata": {
            "needs_background": "light"
          }
        }
      ]
    },
    {
      "cell_type": "markdown",
      "source": [
        ">2. Job in df2"
      ],
      "metadata": {
        "id": "5BQunI3px3XX"
      }
    },
    {
      "cell_type": "code",
      "source": [
        "plot = sns.countplot(data = df2, x = 'job')\n",
        "plot.tick_params(axis='x',rotation=90)"
      ],
      "metadata": {
        "colab": {
          "base_uri": "https://localhost:8080/",
          "height": 340
        },
        "id": "HqW7KGsww_0y",
        "outputId": "28dd6587-2275-469f-b80e-78ef03ab3f51"
      },
      "execution_count": 50,
      "outputs": [
        {
          "output_type": "display_data",
          "data": {
            "text/plain": [
              "<Figure size 432x288 with 1 Axes>"
            ],
            "image/png": "[encoded data removed]"
          },
          "metadata": {
            "needs_background": "light"
          }
        }
      ]
    },
    {
      "cell_type": "markdown",
      "source": [
        "### **Marital - col**\n",
        " >1. marital in df"
      ],
      "metadata": {
        "id": "KvvaXLVvyAc7"
      }
    },
    {
      "cell_type": "code",
      "source": [
        "plot = sns.histplot(data = df, x = 'marital')\n",
        "plot.tick_params(axis='x',rotation=90)\n"
      ],
      "metadata": {
        "colab": {
          "base_uri": "https://localhost:8080/",
          "height": 312
        },
        "id": "2fCeCoKGw_jw",
        "outputId": "a1896fcb-5da4-43bd-8dd1-db4e70bab914"
      },
      "execution_count": 51,
      "outputs": [
        {
          "output_type": "display_data",
          "data": {
            "text/plain": [
              "<Figure size 432x288 with 1 Axes>"
            ],
            "image/png": "[encoded data removed]"
          },
          "metadata": {
            "needs_background": "light"
          }
        }
      ]
    },
    {
      "cell_type": "markdown",
      "source": [
        "2. marital in df2"
      ],
      "metadata": {
        "id": "QqZPRggzyK4B"
      }
    },
    {
      "cell_type": "code",
      "source": [
        "plot = sns.histplot(data = df2, x = 'marital')\n",
        "plot.tick_params(axis='x',rotation=90)"
      ],
      "metadata": {
        "colab": {
          "base_uri": "https://localhost:8080/",
          "height": 312
        },
        "id": "N1vL6ZVBxcBC",
        "outputId": "e5c7e8d4-1c2b-4889-a48b-0121ad82a648"
      },
      "execution_count": 52,
      "outputs": [
        {
          "output_type": "display_data",
          "data": {
            "text/plain": [
              "<Figure size 432x288 with 1 Axes>"
            ],
            "image/png": "[encoded data removed]"
          },
          "metadata": {
            "needs_background": "light"
          }
        }
      ]
    },
    {
      "cell_type": "markdown",
      "source": [
        "### **Education_qual - Col**\n",
        " >1. Education_qual in df"
      ],
      "metadata": {
        "id": "GnMAJ2A4yOT_"
      }
    },
    {
      "cell_type": "code",
      "source": [
        "plot = sns.histplot(data = df, x = 'education_qual')\n",
        "plot.tick_params(axis='x',rotation=90)"
      ],
      "metadata": {
        "colab": {
          "base_uri": "https://localhost:8080/",
          "height": 322
        },
        "id": "INWst43Rxe5D",
        "outputId": "dabda6b2-275e-44f9-f8c9-f89f07737149"
      },
      "execution_count": 53,
      "outputs": [
        {
          "output_type": "display_data",
          "data": {
            "text/plain": [
              "<Figure size 432x288 with 1 Axes>"
            ],
            "image/png": "[encoded data removed]"
          },
          "metadata": {
            "needs_background": "light"
          }
        }
      ]
    },
    {
      "cell_type": "markdown",
      "source": [
        ">2. Educational_qual in df2"
      ],
      "metadata": {
        "id": "nAeWKzgwyY-1"
      }
    },
    {
      "cell_type": "code",
      "source": [
        "plot = sns.histplot(data = df2, x = 'education_qual')\n",
        "plot.tick_params(axis='x',rotation=90)"
      ],
      "metadata": {
        "colab": {
          "base_uri": "https://localhost:8080/",
          "height": 322
        },
        "id": "x3RI8hPvxjPE",
        "outputId": "b8eebbf6-ff13-4563-a801-4e78e8d41156"
      },
      "execution_count": 54,
      "outputs": [
        {
          "output_type": "display_data",
          "data": {
            "text/plain": [
              "<Figure size 432x288 with 1 Axes>"
            ],
            "image/png": "[encoded data removed]"
          },
          "metadata": {
            "needs_background": "light"
          }
        }
      ]
    },
    {
      "cell_type": "markdown",
      "source": [
        "### **Call_type - Col**\n",
        " >1. Call_type in df"
      ],
      "metadata": {
        "id": "kWS1zt-3yk7g"
      }
    },
    {
      "cell_type": "code",
      "source": [
        "plot = sns.histplot(data = df, x = 'call_type')\n",
        "plot.tick_params(axis='x',rotation=90)"
      ],
      "metadata": {
        "colab": {
          "base_uri": "https://localhost:8080/",
          "height": 320
        },
        "id": "pza8i5VeygUi",
        "outputId": "602bedfe-ebb7-462c-b922-4d2389ad4547"
      },
      "execution_count": 55,
      "outputs": [
        {
          "output_type": "display_data",
          "data": {
            "text/plain": [
              "<Figure size 432x288 with 1 Axes>"
            ],
            "image/png": "[encoded data removed]"
          },
          "metadata": {
            "needs_background": "light"
          }
        }
      ]
    },
    {
      "cell_type": "markdown",
      "source": [
        ">2. Call_type in df2"
      ],
      "metadata": {
        "id": "bx9IgFxZy6N9"
      }
    },
    {
      "cell_type": "code",
      "source": [
        "plot = sns.histplot(data = df2, x = 'call_type')\n",
        "plot.tick_params(axis='x',rotation=90)"
      ],
      "metadata": {
        "colab": {
          "base_uri": "https://localhost:8080/",
          "height": 320
        },
        "id": "zJZFyd1ZygOS",
        "outputId": "a0a9a868-3185-41e6-ad78-0a807b25b0f2"
      },
      "execution_count": 56,
      "outputs": [
        {
          "output_type": "display_data",
          "data": {
            "text/plain": [
              "<Figure size 432x288 with 1 Axes>"
            ],
            "image/png": "[encoded data removed]"
          },
          "metadata": {
            "needs_background": "light"
          }
        }
      ]
    },
    {
      "cell_type": "markdown",
      "source": [
        "### **Day - Col**\n",
        " >1. day in df"
      ],
      "metadata": {
        "id": "ly5-sIx0zA49"
      }
    },
    {
      "cell_type": "code",
      "source": [
        "plot = sns.countplot(data = df, x = 'day')\n",
        "plot.tick_params(axis='x',rotation=90)"
      ],
      "metadata": {
        "colab": {
          "base_uri": "https://localhost:8080/",
          "height": 282
        },
        "id": "o2R3LbUoy4QU",
        "outputId": "75fad225-fc41-465e-92b0-d4dc75ffcf95"
      },
      "execution_count": 57,
      "outputs": [
        {
          "output_type": "display_data",
          "data": {
            "text/plain": [
              "<Figure size 432x288 with 1 Axes>"
            ],
            "image/png": "[encoded data removed]"
          },
          "metadata": {
            "needs_background": "light"
          }
        }
      ]
    },
    {
      "cell_type": "markdown",
      "source": [
        ">2. Day in df2"
      ],
      "metadata": {
        "id": "XVN8pwqRzNfG"
      }
    },
    {
      "cell_type": "code",
      "source": [
        "plot = sns.countplot(data = df2, x = 'day')\n",
        "plot.tick_params(axis='x',rotation=90)"
      ],
      "metadata": {
        "colab": {
          "base_uri": "https://localhost:8080/",
          "height": 282
        },
        "id": "CDQ4oBfOzKHF",
        "outputId": "d4834e67-5500-4612-a424-6fc5bc8b57ad"
      },
      "execution_count": 58,
      "outputs": [
        {
          "output_type": "display_data",
          "data": {
            "text/plain": [
              "<Figure size 432x288 with 1 Axes>"
            ],
            "image/png": "[encoded data removed]"
          },
          "metadata": {
            "needs_background": "light"
          }
        }
      ]
    },
    {
      "cell_type": "markdown",
      "source": [
        "### **Mon - Col**\n",
        " >1. Month in df"
      ],
      "metadata": {
        "id": "nvwB02X9znxz"
      }
    },
    {
      "cell_type": "code",
      "source": [
        "plot = sns.countplot(data = df, x = 'mon')\n",
        "plot.tick_params(axis='x',rotation=90)"
      ],
      "metadata": {
        "colab": {
          "base_uri": "https://localhost:8080/",
          "height": 291
        },
        "id": "xkrKeF4UziqY",
        "outputId": "ac855f27-1a46-49b2-f7f6-7c8f72f556df"
      },
      "execution_count": 59,
      "outputs": [
        {
          "output_type": "display_data",
          "data": {
            "text/plain": [
              "<Figure size 432x288 with 1 Axes>"
            ],
            "image/png": "[encoded data removed]"
          },
          "metadata": {
            "needs_background": "light"
          }
        }
      ]
    },
    {
      "cell_type": "markdown",
      "source": [
        ">2. Month in df2"
      ],
      "metadata": {
        "id": "RcN3qQkozvLG"
      }
    },
    {
      "cell_type": "code",
      "source": [
        "plot = sns.countplot(data = df2, x = 'mon')\n",
        "plot.tick_params(axis='x',rotation=90)"
      ],
      "metadata": {
        "colab": {
          "base_uri": "https://localhost:8080/",
          "height": 291
        },
        "id": "An_n3_e4zim5",
        "outputId": "f164d3c6-7151-4cc3-a6e5-821ca1f528f4"
      },
      "execution_count": 60,
      "outputs": [
        {
          "output_type": "display_data",
          "data": {
            "text/plain": [
              "<Figure size 432x288 with 1 Axes>"
            ],
            "image/png": "[encoded data removed]"
          },
          "metadata": {
            "needs_background": "light"
          }
        }
      ]
    },
    {
      "cell_type": "markdown",
      "source": [
        "### **Prev_outcome - Col**\n",
        " >1. Previous outcome in df"
      ],
      "metadata": {
        "id": "DXzHPDzFz-4G"
      }
    },
    {
      "cell_type": "code",
      "source": [
        "plot = sns.histplot(data = df, x = 'prev_outcome')\n",
        "plot.tick_params(axis='x',rotation=90)"
      ],
      "metadata": {
        "colab": {
          "base_uri": "https://localhost:8080/",
          "height": 315
        },
        "id": "rs5CxgGVz5ln",
        "outputId": "702e5ed7-bf4e-4572-eecb-e95ec6d5e69e"
      },
      "execution_count": 61,
      "outputs": [
        {
          "output_type": "display_data",
          "data": {
            "text/plain": [
              "<Figure size 432x288 with 1 Axes>"
            ],
            "image/png": "[encoded data removed]"
          },
          "metadata": {
            "needs_background": "light"
          }
        }
      ]
    },
    {
      "cell_type": "markdown",
      "source": [
        ">2. Previous outcome in df2"
      ],
      "metadata": {
        "id": "wIffdlW90IO-"
      }
    },
    {
      "cell_type": "code",
      "source": [
        "plot = sns.histplot(data = df2, x = 'prev_outcome')\n",
        "plot.tick_params(axis='x',rotation=90)"
      ],
      "metadata": {
        "colab": {
          "base_uri": "https://localhost:8080/",
          "height": 316
        },
        "id": "YJKGSW15z5iG",
        "outputId": "1708a6c7-c28b-4e34-a121-961efe341696"
      },
      "execution_count": 62,
      "outputs": [
        {
          "output_type": "display_data",
          "data": {
            "text/plain": [
              "<Figure size 432x288 with 1 Axes>"
            ],
            "image/png": "[encoded data removed]"
          },
          "metadata": {
            "needs_background": "light"
          }
        }
      ]
    },
    {
      "cell_type": "code",
      "source": [
        "df.dur.plot.hist()"
      ],
      "metadata": {
        "colab": {
          "base_uri": "https://localhost:8080/",
          "height": 282
        },
        "id": "ZjG_VCZA0K0a",
        "outputId": "5a925d33-f605-428c-d731-6137a0986a4a"
      },
      "execution_count": 64,
      "outputs": [
        {
          "output_type": "execute_result",
          "data": {
            "text/plain": [
              "<AxesSubplot:ylabel='Frequency'>"
            ]
          },
          "metadata": {},
          "execution_count": 64
        },
        {
          "output_type": "display_data",
          "data": {
            "text/plain": [
              "<Figure size 432x288 with 1 Axes>"
            ],
            "image/png": "[encoded data removed]"
          },
          "metadata": {
            "needs_background": "light"
          }
        }
      ]
    },
    {
      "cell_type": "code",
      "source": [
        "df.dur.plot.kde()\n"
      ],
      "metadata": {
        "colab": {
          "base_uri": "https://localhost:8080/",
          "height": 285
        },
        "id": "pq7v-rgM1rxD",
        "outputId": "174c4daa-ec06-4102-805d-df8ed9c6269f"
      },
      "execution_count": 65,
      "outputs": [
        {
          "output_type": "execute_result",
          "data": {
            "text/plain": [
              "<AxesSubplot:ylabel='Density'>"
            ]
          },
          "metadata": {},
          "execution_count": 65
        },
        {
          "output_type": "display_data",
          "data": {
            "text/plain": [
              "<Figure size 432x288 with 1 Axes>"
            ],
            "image/png": "[encoded data removed]"
          },
          "metadata": {
            "needs_background": "light"
          }
        }
      ]
    },
    {
      "cell_type": "markdown",
      "source": [
        "#-----------------------------------------------------------------------------"
      ],
      "metadata": {
        "id": "eoxmET50Bv1H"
      }
    },
    {
      "cell_type": "markdown",
      "source": [
        "# **ENCODING**"
      ],
      "metadata": {
        "id": "OnxM1ZTw1kqr"
      }
    },
    {
      "cell_type": "code",
      "source": [
        "df['job'] = df['job'].replace({'management' : 3, 'technician' : 6, 'entrepreneur' : 9, 'blue-collar' : 10,\n",
        "                               'unknown' : 0, 'retired' : 1, 'admin.' : 4, 'services' : 7, 'self-employed' : 5,\n",
        "                               'unemployed' : 2, 'housemaid' : 8, 'student' : 0})\n",
        "\n",
        "\n",
        "df['marital'] = df['marital'].replace({'married' : 2, 'single' : 0, 'divorced' : 1})\n",
        "\n",
        "\n",
        "df['education_qual'] = df['education_qual'].replace({'tertiary' : 0, 'secondary' : 1, 'primary' : 2, 'unknown' : 1})\n",
        "\n",
        "\n",
        "df['call_type'] = df['call_type'].replace({'cellular' : 0, 'telephone' : 1, 'unknown' : 2})\n",
        "\n",
        "\n",
        "df['mon'] = df['mon'].replace({'may' : 11,'jul' : 10, 'aug' : 6, 'jun' : 7, 'nov' : 8, 'apr' : 4, \n",
        "                               'feb' : 5, 'jan' : 9, 'oct' : 3, 'sep' : 2, 'mar' : 0, 'dec' : 1})\n",
        "\n",
        "\n",
        "df['prev_outcome'] = df['prev_outcome'].replace({'success' : 0, 'failure' : 2, 'unknown' : 3, 'other' : 1})\n",
        "\n",
        "\n",
        "df['y'] = df['y'].replace({'yes' : 0, 'no' : 1})"
      ],
      "metadata": {
        "id": "Mig_iNEM24hk"
      },
      "execution_count": 66,
      "outputs": []
    },
    {
      "cell_type": "code",
      "source": [
        "df.isnull().sum()"
      ],
      "metadata": {
        "colab": {
          "base_uri": "https://localhost:8080/"
        },
        "id": "mavPKCxr24ep",
        "outputId": "01f6f4b6-f69c-4c2b-9315-00231a6a1d1a"
      },
      "execution_count": 67,
      "outputs": [
        {
          "output_type": "execute_result",
          "data": {
            "text/plain": [
              "age               0\n",
              "job               0\n",
              "marital           0\n",
              "education_qual    0\n",
              "call_type         0\n",
              "day               0\n",
              "mon               0\n",
              "dur               0\n",
              "num_calls         0\n",
              "prev_outcome      0\n",
              "y                 0\n",
              "dtype: int64"
            ]
          },
          "metadata": {},
          "execution_count": 67
        }
      ]
    },
    {
      "cell_type": "code",
      "source": [
        "df.shape"
      ],
      "metadata": {
        "colab": {
          "base_uri": "https://localhost:8080/"
        },
        "id": "OtOvj2wZ24cs",
        "outputId": "a6a9c515-d8df-4b19-c215-f623e806af06"
      },
      "execution_count": 68,
      "outputs": [
        {
          "output_type": "execute_result",
          "data": {
            "text/plain": [
              "(45205, 11)"
            ]
          },
          "metadata": {},
          "execution_count": 68
        }
      ]
    },
    {
      "cell_type": "markdown",
      "source": [
        "#-----------------------------------------------------------------------------"
      ],
      "metadata": {
        "id": "GvNlC-KtBxpk"
      }
    },
    {
      "cell_type": "markdown",
      "source": [
        "# **Features & Target Variable**"
      ],
      "metadata": {
        "id": "q3RLeoxT3NlE"
      }
    },
    {
      "cell_type": "code",
      "source": [
        "X = df[['age', 'job', 'marital', 'education_qual', 'call_type', 'day', 'mon',\n",
        "       'dur', 'num_calls', 'prev_outcome']]\n",
        "\n",
        "y = df['y']"
      ],
      "metadata": {
        "id": "Ua-xrM4724Uo"
      },
      "execution_count": 70,
      "outputs": []
    },
    {
      "cell_type": "code",
      "source": [
        "X.shape, y.shape"
      ],
      "metadata": {
        "colab": {
          "base_uri": "https://localhost:8080/"
        },
        "id": "a0haTb-o24SD",
        "outputId": "963b457d-4082-41a8-d8dc-84d13cc0e35a"
      },
      "execution_count": 71,
      "outputs": [
        {
          "output_type": "execute_result",
          "data": {
            "text/plain": [
              "((45205, 10), (45205,))"
            ]
          },
          "metadata": {},
          "execution_count": 71
        }
      ]
    },
    {
      "cell_type": "markdown",
      "source": [
        "#-----------------------------------------------------------------------------"
      ],
      "metadata": {
        "id": "buEpQXrIBzCz"
      }
    },
    {
      "cell_type": "markdown",
      "source": [
        "# **Splitting up DATA**"
      ],
      "metadata": {
        "id": "aC6flayE3ZfN"
      }
    },
    {
      "cell_type": "code",
      "source": [
        "from sklearn.model_selection import train_test_split\n",
        "X_train, X_test, y_train, y_test = train_test_split(X,y, test_size = 0.25) "
      ],
      "metadata": {
        "id": "7EvvWjL524P0"
      },
      "execution_count": 72,
      "outputs": []
    },
    {
      "cell_type": "code",
      "source": [
        "X_train"
      ],
      "metadata": {
        "colab": {
          "base_uri": "https://localhost:8080/",
          "height": 487
        },
        "id": "B4R4dkdH24Mr",
        "outputId": "43184dc2-e582-4a0c-c197-d4da2a44fe07"
      },
      "execution_count": 73,
      "outputs": [
        {
          "output_type": "execute_result",
          "data": {
            "text/plain": [
              "       age  job  marital  education_qual  call_type  day  mon  dur  num_calls  \\\n",
              "19292   44    6        2               1          0    6    6  165          2   \n",
              "16457   53    3        1               0          1   23   10  203          2   \n",
              "31811   26    4        2               1          0    8    4  209          1   \n",
              "19643   44    6        2               1          0    7    6  159          3   \n",
              "28429   58    2        1               2          0   29    9  267          1   \n",
              "...    ...  ...      ...             ...        ...  ...  ...  ...        ...   \n",
              "22503   36    3        1               0          0   22    6  247          4   \n",
              "42242   32    3        2               0          0   12    8  126          1   \n",
              "6985    33   10        2               2          2   28   11  528          2   \n",
              "42663   48    7        2               1          0   14    9  273          1   \n",
              "1638    27    4        0               1          2    9   11  371          1   \n",
              "\n",
              "       prev_outcome  \n",
              "19292             3  \n",
              "16457             3  \n",
              "31811             3  \n",
              "19643             3  \n",
              "28429             3  \n",
              "...             ...  \n",
              "22503             3  \n",
              "42242             2  \n",
              "6985              3  \n",
              "42663             3  \n",
              "1638              3  \n",
              "\n",
              "[33903 rows x 10 columns]"
            ],
            "text/html": [
              "\n",
              "  <div id=\"df-3bbfbf04-d59e-4b8a-aba1-1dc286a97ec1\">\n",
              "    <div class=\"colab-df-container\">\n",
              "      <div>\n",
              "<style scoped>\n",
              "    .dataframe tbody tr th:only-of-type {\n",
              "        vertical-align: middle;\n",
              "    }\n",
              "\n",
              "    .dataframe tbody tr th {\n",
              "        vertical-align: top;\n",
              "    }\n",
              "\n",
              "    .dataframe thead th {\n",
              "        text-align: right;\n",
              "    }\n",
              "</style>\n",
              "<table border=\"1\" class=\"dataframe\">\n",
              "  <thead>\n",
              "    <tr style=\"text-align: right;\">\n",
              "      <th></th>\n",
              "      <th>age</th>\n",
              "      <th>job</th>\n",
              "      <th>marital</th>\n",
              "      <th>education_qual</th>\n",
              "      <th>call_type</th>\n",
              "      <th>day</th>\n",
              "      <th>mon</th>\n",
              "      <th>dur</th>\n",
              "      <th>num_calls</th>\n",
              "      <th>prev_outcome</th>\n",
              "    </tr>\n",
              "  </thead>\n",
              "  <tbody>\n",
              "    <tr>\n",
              "      <th>19292</th>\n",
              "      <td>44</td>\n",
              "      <td>6</td>\n",
              "      <td>2</td>\n",
              "      <td>1</td>\n",
              "      <td>0</td>\n",
              "      <td>6</td>\n",
              "      <td>6</td>\n",
              "      <td>165</td>\n",
              "      <td>2</td>\n",
              "      <td>3</td>\n",
              "    </tr>\n",
              "    <tr>\n",
              "      <th>16457</th>\n",
              "      <td>53</td>\n",
              "      <td>3</td>\n",
              "      <td>1</td>\n",
              "      <td>0</td>\n",
              "      <td>1</td>\n",
              "      <td>23</td>\n",
              "      <td>10</td>\n",
              "      <td>203</td>\n",
              "      <td>2</td>\n",
              "      <td>3</td>\n",
              "    </tr>\n",
              "    <tr>\n",
              "      <th>31811</th>\n",
              "      <td>26</td>\n",
              "      <td>4</td>\n",
              "      <td>2</td>\n",
              "      <td>1</td>\n",
              "      <td>0</td>\n",
              "      <td>8</td>\n",
              "      <td>4</td>\n",
              "      <td>209</td>\n",
              "      <td>1</td>\n",
              "      <td>3</td>\n",
              "    </tr>\n",
              "    <tr>\n",
              "      <th>19643</th>\n",
              "      <td>44</td>\n",
              "      <td>6</td>\n",
              "      <td>2</td>\n",
              "      <td>1</td>\n",
              "      <td>0</td>\n",
              "      <td>7</td>\n",
              "      <td>6</td>\n",
              "      <td>159</td>\n",
              "      <td>3</td>\n",
              "      <td>3</td>\n",
              "    </tr>\n",
              "    <tr>\n",
              "      <th>28429</th>\n",
              "      <td>58</td>\n",
              "      <td>2</td>\n",
              "      <td>1</td>\n",
              "      <td>2</td>\n",
              "      <td>0</td>\n",
              "      <td>29</td>\n",
              "      <td>9</td>\n",
              "      <td>267</td>\n",
              "      <td>1</td>\n",
              "      <td>3</td>\n",
              "    </tr>\n",
              "    <tr>\n",
              "      <th>...</th>\n",
              "      <td>...</td>\n",
              "      <td>...</td>\n",
              "      <td>...</td>\n",
              "      <td>...</td>\n",
              "      <td>...</td>\n",
              "      <td>...</td>\n",
              "      <td>...</td>\n",
              "      <td>...</td>\n",
              "      <td>...</td>\n",
              "      <td>...</td>\n",
              "    </tr>\n",
              "    <tr>\n",
              "      <th>22503</th>\n",
              "      <td>36</td>\n",
              "      <td>3</td>\n",
              "      <td>1</td>\n",
              "      <td>0</td>\n",
              "      <td>0</td>\n",
              "      <td>22</td>\n",
              "      <td>6</td>\n",
              "      <td>247</td>\n",
              "      <td>4</td>\n",
              "      <td>3</td>\n",
              "    </tr>\n",
              "    <tr>\n",
              "      <th>42242</th>\n",
              "      <td>32</td>\n",
              "      <td>3</td>\n",
              "      <td>2</td>\n",
              "      <td>0</td>\n",
              "      <td>0</td>\n",
              "      <td>12</td>\n",
              "      <td>8</td>\n",
              "      <td>126</td>\n",
              "      <td>1</td>\n",
              "      <td>2</td>\n",
              "    </tr>\n",
              "    <tr>\n",
              "      <th>6985</th>\n",
              "      <td>33</td>\n",
              "      <td>10</td>\n",
              "      <td>2</td>\n",
              "      <td>2</td>\n",
              "      <td>2</td>\n",
              "      <td>28</td>\n",
              "      <td>11</td>\n",
              "      <td>528</td>\n",
              "      <td>2</td>\n",
              "      <td>3</td>\n",
              "    </tr>\n",
              "    <tr>\n",
              "      <th>42663</th>\n",
              "      <td>48</td>\n",
              "      <td>7</td>\n",
              "      <td>2</td>\n",
              "      <td>1</td>\n",
              "      <td>0</td>\n",
              "      <td>14</td>\n",
              "      <td>9</td>\n",
              "      <td>273</td>\n",
              "      <td>1</td>\n",
              "      <td>3</td>\n",
              "    </tr>\n",
              "    <tr>\n",
              "      <th>1638</th>\n",
              "      <td>27</td>\n",
              "      <td>4</td>\n",
              "      <td>0</td>\n",
              "      <td>1</td>\n",
              "      <td>2</td>\n",
              "      <td>9</td>\n",
              "      <td>11</td>\n",
              "      <td>371</td>\n",
              "      <td>1</td>\n",
              "      <td>3</td>\n",
              "    </tr>\n",
              "  </tbody>\n",
              "</table>\n",
              "<p>33903 rows × 10 columns</p>\n",
              "</div>\n",
              "      <button class=\"colab-df-convert\" onclick=\"convertToInteractive('df-3bbfbf04-d59e-4b8a-aba1-1dc286a97ec1')\"\n",
              "              title=\"Convert this dataframe to an interactive table.\"\n",
              "              style=\"display:none;\">\n",
              "        \n",
              "  <svg xmlns=\"http://www.w3.org/2000/svg\" height=\"24px\"viewBox=\"0 0 24 24\"\n",
              "       width=\"24px\">\n",
              "    <path d=\"M0 0h24v24H0V0z\" fill=\"none\"/>\n",
              "    <path d=\"M18.56 5.44l.94 2.06.94-2.06 2.06-.94-2.06-.94-.94-2.06-.94 2.06-2.06.94zm-11 1L8.5 8.5l.94-2.06 2.06-.94-2.06-.94L8.5 2.5l-.94 2.06-2.06.94zm10 10l.94 2.06.94-2.06 2.06-.94-2.06-.94-.94-2.06-.94 2.06-2.06.94z\"/><path d=\"M17.41 7.96l-1.37-1.37c-.4-.4-.92-.59-1.43-.59-.52 0-1.04.2-1.43.59L10.3 9.45l-7.72 7.72c-.78.78-.78 2.05 0 2.83L4 21.41c.39.39.9.59 1.41.59.51 0 1.02-.2 1.41-.59l7.78-7.78 2.81-2.81c.8-.78.8-2.07 0-2.86zM5.41 20L4 18.59l7.72-7.72 1.47 1.35L5.41 20z\"/>\n",
              "  </svg>\n",
              "      </button>\n",
              "      \n",
              "  <style>\n",
              "    .colab-df-container {\n",
              "      display:flex;\n",
              "      flex-wrap:wrap;\n",
              "      gap: 12px;\n",
              "    }\n",
              "\n",
              "    .colab-df-convert {\n",
              "      background-color: #E8F0FE;\n",
              "      border: none;\n",
              "      border-radius: 50%;\n",
              "      cursor: pointer;\n",
              "      display: none;\n",
              "      fill: #1967D2;\n",
              "      height: 32px;\n",
              "      padding: 0 0 0 0;\n",
              "      width: 32px;\n",
              "    }\n",
              "\n",
              "    .colab-df-convert:hover {\n",
              "      background-color: #E2EBFA;\n",
              "      box-shadow: 0px 1px 2px rgba(60, 64, 67, 0.3), 0px 1px 3px 1px rgba(60, 64, 67, 0.15);\n",
              "      fill: #174EA6;\n",
              "    }\n",
              "\n",
              "    [theme=dark] .colab-df-convert {\n",
              "      background-color: #3B4455;\n",
              "      fill: #D2E3FC;\n",
              "    }\n",
              "\n",
              "    [theme=dark] .colab-df-convert:hover {\n",
              "      background-color: #434B5C;\n",
              "      box-shadow: 0px 1px 3px 1px rgba(0, 0, 0, 0.15);\n",
              "      filter: drop-shadow(0px 1px 2px rgba(0, 0, 0, 0.3));\n",
              "      fill: #FFFFFF;\n",
              "    }\n",
              "  </style>\n",
              "\n",
              "      <script>\n",
              "        const buttonEl =\n",
              "          document.querySelector('#df-3bbfbf04-d59e-4b8a-aba1-1dc286a97ec1 button.colab-df-convert');\n",
              "        buttonEl.style.display =\n",
              "          google.colab.kernel.accessAllowed ? 'block' : 'none';\n",
              "\n",
              "        async function convertToInteractive(key) {\n",
              "          const element = document.querySelector('#df-3bbfbf04-d59e-4b8a-aba1-1dc286a97ec1');\n",
              "          const dataTable =\n",
              "            await google.colab.kernel.invokeFunction('convertToInteractive',\n",
              "                                                     [key], {});\n",
              "          if (!dataTable) return;\n",
              "\n",
              "          const docLinkHtml = 'Like what you see? Visit the ' +\n",
              "            '<a target=\"_blank\" href=https://colab.research.google.com/notebooks/data_table.ipynb>data table notebook</a>'\n",
              "            + ' to learn more about interactive tables.';\n",
              "          element.innerHTML = '';\n",
              "          dataTable['output_type'] = 'display_data';\n",
              "          await google.colab.output.renderOutput(dataTable, element);\n",
              "          const docLink = document.createElement('div');\n",
              "          docLink.innerHTML = docLinkHtml;\n",
              "          element.appendChild(docLink);\n",
              "        }\n",
              "      </script>\n",
              "    </div>\n",
              "  </div>\n",
              "  "
            ]
          },
          "metadata": {},
          "execution_count": 73
        }
      ]
    },
    {
      "cell_type": "markdown",
      "source": [
        "#-----------------------------------------------------------------------------"
      ],
      "metadata": {
        "id": "zSiYbB9XB0Zt"
      }
    },
    {
      "cell_type": "markdown",
      "source": [
        "# **Balancing DATA**"
      ],
      "metadata": {
        "id": "BQoCJxGY3yyK"
      }
    },
    {
      "cell_type": "code",
      "source": [
        "from imblearn.combine import SMOTEENN\n",
        "smt = SMOTEENN()\n",
        "X_train, y_train = smt.fit_resample(X_train, y_train)"
      ],
      "metadata": {
        "id": "VbG-1Ktj24Jq"
      },
      "execution_count": 74,
      "outputs": []
    },
    {
      "cell_type": "code",
      "source": [
        "X_train, y_train"
      ],
      "metadata": {
        "colab": {
          "base_uri": "https://localhost:8080/"
        },
        "id": "X6XXXwi-24Dc",
        "outputId": "177b72f5-495d-4019-d195-f23e1249b3f2"
      },
      "execution_count": 75,
      "outputs": [
        {
          "output_type": "execute_result",
          "data": {
            "text/plain": [
              "(       age  job  marital  education_qual  call_type  day  mon   dur  \\\n",
              " 0       26    4        2               1          0    8    4   209   \n",
              " 1       51   10        2               1          0   12    6  1226   \n",
              " 2       23    0        0               0          0   10    6   213   \n",
              " 3       68    1        2               0          0    3    6   392   \n",
              " 4       48   10        2               2          0   11    6   856   \n",
              " ...    ...  ...      ...             ...        ...  ...  ...   ...   \n",
              " 51689   38    6        2               1          0   17    8   224   \n",
              " 51690   30    6        0               0          2   27   11   182   \n",
              " 51691   36    3        1               0          0   22    6   247   \n",
              " 51692   48    7        2               1          0   14    9   273   \n",
              " 51693   27    4        0               1          2    9   11   371   \n",
              " \n",
              "        num_calls  prev_outcome  \n",
              " 0              1             3  \n",
              " 1              3             3  \n",
              " 2              1             3  \n",
              " 3              4             0  \n",
              " 4              3             3  \n",
              " ...          ...           ...  \n",
              " 51689          2             2  \n",
              " 51690          1             3  \n",
              " 51691          4             3  \n",
              " 51692          1             3  \n",
              " 51693          1             3  \n",
              " \n",
              " [51694 rows x 10 columns], 0        0\n",
              " 1        0\n",
              " 2        0\n",
              " 3        0\n",
              " 4        0\n",
              "         ..\n",
              " 51689    1\n",
              " 51690    1\n",
              " 51691    1\n",
              " 51692    1\n",
              " 51693    1\n",
              " Name: y, Length: 51694, dtype: int64)"
            ]
          },
          "metadata": {},
          "execution_count": 75
        }
      ]
    },
    {
      "cell_type": "markdown",
      "source": [
        "#-----------------------------------------------------------------------------"
      ],
      "metadata": {
        "id": "k3DLiq3kB2GW"
      }
    },
    {
      "cell_type": "markdown",
      "source": [
        "# **MODELLING the data**\n",
        "\n",
        ">>## 1. Linear_Regression"
      ],
      "metadata": {
        "id": "iXeSfwm54Ags"
      }
    },
    {
      "cell_type": "code",
      "source": [
        "from sklearn.linear_model import LogisticRegression\n",
        "from sklearn.metrics import roc_auc_score"
      ],
      "metadata": {
        "id": "EwFvHOdr4snI"
      },
      "execution_count": 77,
      "outputs": []
    },
    {
      "cell_type": "code",
      "source": [
        "log = LogisticRegression()\n",
        "log.fit(X_train, y_train)\n",
        "y_predict_log = log.predict(X_test)\n",
        "roc_auc_score(y_test,y_predict_log)"
      ],
      "metadata": {
        "colab": {
          "base_uri": "https://localhost:8080/"
        },
        "id": "2hx8BWSL4wB4",
        "outputId": "0293c643-beb8-4cfe-d2a0-01e13e4011c5"
      },
      "execution_count": 78,
      "outputs": [
        {
          "output_type": "execute_result",
          "data": {
            "text/plain": [
              "0.8216838914141629"
            ]
          },
          "metadata": {},
          "execution_count": 78
        }
      ]
    },
    {
      "cell_type": "markdown",
      "source": [
        ">>## 2.DECISION Tree Classifier"
      ],
      "metadata": {
        "id": "wU673FHq43hZ"
      }
    },
    {
      "cell_type": "code",
      "source": [
        "from sklearn.tree import DecisionTreeClassifier\n",
        "from sklearn.model_selection import cross_val_score"
      ],
      "metadata": {
        "id": "at3e9d_U4-C3"
      },
      "execution_count": 79,
      "outputs": []
    },
    {
      "cell_type": "code",
      "source": [
        "for depth in range(1,15) :\n",
        "    dt = DecisionTreeClassifier(max_depth = depth)\n",
        "    dt.fit(X_train, y_train)\n",
        "    y_predict_dt = dt.predict(X_test)\n",
        "    auroc = roc_auc_score(y_test, y_predict_dt)\n",
        "    print('Depth : ', depth, 'Train Score : ', dt.score(X_train, y_train), 'AUROC : ', auroc, 'Cross Validation : ', np.mean(cross_val_score(dt, X_train, y_train, cv=10, scoring = 'roc_auc')))\n"
      ],
      "metadata": {
        "colab": {
          "base_uri": "https://localhost:8080/"
        },
        "id": "xExD8cm049_a",
        "outputId": "71e68729-bf9f-44ba-d85c-eb8710313869"
      },
      "execution_count": 80,
      "outputs": [
        {
          "output_type": "stream",
          "name": "stdout",
          "text": [
            "Depth :  1 Train Score :  0.7774596664990134 AUROC :  0.7252740632362592 Cross Validation :  0.7713138870065445\n",
            "Depth :  2 Train Score :  0.8386273068441211 AUROC :  0.7508117005368304 Cross Validation :  0.8545467342468624\n",
            "Depth :  3 Train Score :  0.8711842767052269 AUROC :  0.7986165422124715 Cross Validation :  0.9101079858419684\n",
            "Depth :  4 Train Score :  0.8796765582079158 AUROC :  0.789518915195184 Cross Validation :  0.94107176520346\n",
            "Depth :  5 Train Score :  0.9108794057337408 AUROC :  0.8208854901457429 Cross Validation :  0.9557730029904901\n",
            "Depth :  6 Train Score :  0.9193329980268503 AUROC :  0.8200137110449217 Cross Validation :  0.9650303953794326\n",
            "Depth :  7 Train Score :  0.9293728479127171 AUROC :  0.828488257135512 Cross Validation :  0.9701313779467682\n",
            "Depth :  8 Train Score :  0.9398963129183271 AUROC :  0.832233049182809 Cross Validation :  0.9724027522238574\n",
            "Depth :  9 Train Score :  0.9473826749719503 AUROC :  0.8323644095996604 Cross Validation :  0.9720387266218238\n",
            "Depth :  10 Train Score :  0.9538244283669285 AUROC :  0.8331355445855656 Cross Validation :  0.9702593741221943\n",
            "Depth :  11 Train Score :  0.9624327774983558 AUROC :  0.8343681660401605 Cross Validation :  0.9683046735728127\n",
            "Depth :  12 Train Score :  0.9680040236777963 AUROC :  0.8269721034397436 Cross Validation :  0.9660521374094015\n",
            "Depth :  13 Train Score :  0.9761094130846907 AUROC :  0.8206327854974538 Cross Validation :  0.9638600451218682\n",
            "Depth :  14 Train Score :  0.981487213216234 AUROC :  0.8208795175314778 Cross Validation :  0.9619926070246928\n"
          ]
        }
      ]
    },
    {
      "cell_type": "code",
      "source": [
        "from sklearn.tree import DecisionTreeClassifier\n",
        "from sklearn.model_selection import cross_val_score\n",
        "from sklearn.metrics import roc_auc_score"
      ],
      "metadata": {
        "id": "lgLDQshC5OR0"
      },
      "execution_count": 81,
      "outputs": []
    },
    {
      "cell_type": "code",
      "source": [
        "dt = DecisionTreeClassifier(max_depth = 9)\n",
        "dt.fit(X_train, y_train)\n",
        "y_predict_dt = dt.predict(X_test)\n",
        "roc_auc_score(y_test, y_predict_dt)"
      ],
      "metadata": {
        "colab": {
          "base_uri": "https://localhost:8080/"
        },
        "id": "B9jrBKa35SZw",
        "outputId": "c6a855bf-df48-4149-c320-e415625ca4c1"
      },
      "execution_count": 82,
      "outputs": [
        {
          "output_type": "execute_result",
          "data": {
            "text/plain": [
              "0.8323141431876769"
            ]
          },
          "metadata": {},
          "execution_count": 82
        }
      ]
    },
    {
      "cell_type": "markdown",
      "source": [
        ">>## 3. RANDOM Forest Classifier"
      ],
      "metadata": {
        "id": "QkwpQCCU5VIE"
      }
    },
    {
      "cell_type": "code",
      "source": [
        "from sklearn.ensemble import RandomForestClassifier"
      ],
      "metadata": {
        "id": "Fl_LzNz45bBj"
      },
      "execution_count": 83,
      "outputs": []
    },
    {
      "cell_type": "code",
      "source": [
        "rf = RandomForestClassifier(n_estimators = 100, max_depth = 3, max_features = 'sqrt')\n",
        "rf.fit(X_train, y_train)\n",
        "y_predict_rf = rf.predict(X_test)\n",
        "roc_auc_score(y_test, y_predict_rf)"
      ],
      "metadata": {
        "colab": {
          "base_uri": "https://localhost:8080/"
        },
        "id": "VWiHRehw5lsq",
        "outputId": "1fac33a8-b4cf-4c78-c704-37e54c3a871f"
      },
      "execution_count": 84,
      "outputs": [
        {
          "output_type": "execute_result",
          "data": {
            "text/plain": [
              "0.8002111560273137"
            ]
          },
          "metadata": {},
          "execution_count": 84
        }
      ]
    },
    {
      "cell_type": "markdown",
      "source": [
        ">>## 4. XGB Classifier"
      ],
      "metadata": {
        "id": "jKwGTpvO5pcv"
      }
    },
    {
      "cell_type": "code",
      "source": [
        "import xgboost as xgb"
      ],
      "metadata": {
        "id": "VQkE87Iv5yfw"
      },
      "execution_count": 85,
      "outputs": []
    },
    {
      "cell_type": "code",
      "source": [
        "for lr in [0.1,0.11,0.12,0.13,0.14,0.15,0.2,0.3,0.4,0.5,0.6,0.7,0.8,0.9,1]:\n",
        "    xg = xgb.XGBClassifier(learning_rate = lr, n_estimator = 100, verbosity = 0)\n",
        "    xg.fit(X_train, y_train)\n",
        "    y_predict_xg = xg.predict(X_test)\n",
        "    auroc = roc_auc_score(y_test, y_predict_xg)\n",
        "    print('Learning Rate : ', lr, 'Train Score : ', xg.score(X_train, y_train), 'AUROC : ', auroc, 'Cross Validation : ', np.mean(cross_val_score(xg, X_train, y_train, cv=10, scoring = 'roc_auc')))\n"
      ],
      "metadata": {
        "colab": {
          "base_uri": "https://localhost:8080/"
        },
        "id": "-Tp-O8UM53qE",
        "outputId": "112dfbe1-c5cb-4d6c-fd90-b914afd85cb8"
      },
      "execution_count": 86,
      "outputs": [
        {
          "output_type": "stream",
          "name": "stdout",
          "text": [
            "Learning Rate :  0.1 Train Score :  0.9663597322706697 AUROC :  0.8541915324652393 Cross Validation :  0.9910215820608974\n",
            "Learning Rate :  0.11 Train Score :  0.967810577629899 AUROC :  0.8506020283888373 Cross Validation :  0.9913080962769097\n",
            "Learning Rate :  0.12 Train Score :  0.9683328819592216 AUROC :  0.8565380650287854 Cross Validation :  0.9915630818929323\n",
            "Learning Rate :  0.13 Train Score :  0.9693001121987078 AUROC :  0.8497120717663394 Cross Validation :  0.9918136832231481\n",
            "Learning Rate :  0.14 Train Score :  0.9716601539830542 AUROC :  0.8526126848681778 Cross Validation :  0.9921221862942822\n",
            "Learning Rate :  0.15 Train Score :  0.9733431345997601 AUROC :  0.8512863193375072 Cross Validation :  0.9922765162983433\n",
            "Learning Rate :  0.2 Train Score :  0.9764769605756954 AUROC :  0.8507973440044043 Cross Validation :  0.9932599767633583\n",
            "Learning Rate :  0.3 Train Score :  0.9843308701203234 AUROC :  0.8485638830450835 Cross Validation :  0.9939308587221609\n",
            "Learning Rate :  0.4 Train Score :  0.989205710527334 AUROC :  0.8459956960080308 Cross Validation :  0.9944894806743896\n",
            "Learning Rate :  0.5 Train Score :  0.9921460904553719 AUROC :  0.8452565386214836 Cross Validation :  0.9947493603134502\n",
            "Learning Rate :  0.6 Train Score :  0.9947963013115642 AUROC :  0.8413471472605548 Cross Validation :  0.994589013483977\n",
            "Learning Rate :  0.7 Train Score :  0.9967114171857469 AUROC :  0.846764530980989 Cross Validation :  0.9943309473125049\n",
            "Learning Rate :  0.8 Train Score :  0.9975432351917051 AUROC :  0.8403383690014642 Cross Validation :  0.9945218763286567\n",
            "Learning Rate :  0.9 Train Score :  0.9983363639880837 AUROC :  0.8385116393639054 Cross Validation :  0.9943395117394479\n",
            "Learning Rate :  1 Train Score :  0.9994776956706775 AUROC :  0.8341007338896151 Cross Validation :  0.9943110539606355\n"
          ]
        }
      ]
    },
    {
      "cell_type": "code",
      "source": [
        "import xgboost as xgb\n",
        "\n",
        "xg = xgb.XGBClassifier(learning_rate = 0.9, n_estimator = 100, verbosity = 0)\n",
        "xg.fit(X_train, y_train)\n",
        "y_predict_xg = xg.predict(X_test)\n",
        "roc_auc_score(y_test, y_predict_xg)"
      ],
      "metadata": {
        "colab": {
          "base_uri": "https://localhost:8080/"
        },
        "id": "ZEZ-tOjL5-ek",
        "outputId": "b7008b09-98bb-4d03-9ee6-115d7c2aa47a"
      },
      "execution_count": 87,
      "outputs": [
        {
          "output_type": "execute_result",
          "data": {
            "text/plain": [
              "0.8385116393639054"
            ]
          },
          "metadata": {},
          "execution_count": 87
        }
      ]
    },
    {
      "cell_type": "markdown",
      "source": [
        ">>## 5.Voting Classifier"
      ],
      "metadata": {
        "id": "LBJmMzfV6Cz-"
      }
    },
    {
      "cell_type": "code",
      "source": [
        "from sklearn.ensemble import VotingClassifier\n",
        "from sklearn.neighbors import KNeighborsClassifier"
      ],
      "metadata": {
        "id": "g_UWddUe6I3F"
      },
      "execution_count": 88,
      "outputs": []
    },
    {
      "cell_type": "code",
      "source": [
        "model1 =DecisionTreeClassifier(max_depth = 9)\n",
        "model2 = RandomForestClassifier(n_estimators = 100, max_depth = 3, max_features = 'sqrt')\n",
        "model3 = xgb.XGBClassifier(learning_rate = 0.5, n_estimator = 100, verbosity = 0)\n",
        "\n",
        "model = VotingClassifier(estimators=[('Decision Tree : ', model1), ('Random Forest : ', model2),('XGBoost : ',model3)]) \n",
        "\n",
        "model.fit(X_train, y_train)\n",
        "y_predict_voting = model.predict(X_test)\n",
        "roc_auc_score(y_test, y_predict_voting)"
      ],
      "metadata": {
        "colab": {
          "base_uri": "https://localhost:8080/"
        },
        "id": "dz9Xuty26JW6",
        "outputId": "4d57ae57-e0a9-48e1-d180-5387b3ca3066"
      },
      "execution_count": 89,
      "outputs": [
        {
          "output_type": "execute_result",
          "data": {
            "text/plain": [
              "0.8463990886013213"
            ]
          },
          "metadata": {},
          "execution_count": 89
        }
      ]
    },
    {
      "cell_type": "markdown",
      "source": [
        "#-----------------------------------------------------------------------------"
      ],
      "metadata": {
        "id": "hVHMJnxVB5RK"
      }
    },
    {
      "cell_type": "markdown",
      "source": [
        "# **AUROC** prediction comparision"
      ],
      "metadata": {
        "id": "yGowLOER6Rvt"
      }
    },
    {
      "cell_type": "code",
      "source": [
        "AUROC = pd.Series({'XGBoost' : (roc_auc_score(y_test, y_predict_xg)),\n",
        "                   'Voting Classifier' : (roc_auc_score(y_test, y_predict_voting)),\n",
        "                   'Decision Tree' : (roc_auc_score(y_test, y_predict_dt)),\n",
        "                   'Random Forest' : (roc_auc_score(y_test, y_predict_rf)),\n",
        "                   'Logistic Regression' : (roc_auc_score(y_test,y_predict_log))})\n",
        "AUROC"
      ],
      "metadata": {
        "colab": {
          "base_uri": "https://localhost:8080/"
        },
        "id": "hawPXK1D_Z7B",
        "outputId": "770b4644-9d8e-4949-d28f-6b17d3069ccd"
      },
      "execution_count": 90,
      "outputs": [
        {
          "output_type": "execute_result",
          "data": {
            "text/plain": [
              "XGBoost                0.838512\n",
              "Voting Classifier      0.846399\n",
              "Decision Tree          0.832314\n",
              "Random Forest          0.800211\n",
              "Logistic Regression    0.821684\n",
              "dtype: float64"
            ]
          },
          "metadata": {},
          "execution_count": 90
        }
      ]
    },
    {
      "cell_type": "markdown",
      "source": [
        "All format of modelling has moreover same accuracy of **80 & above** --> [Which is (decent)good fit for above model]"
      ],
      "metadata": {
        "id": "uxh5_lgt_fy3"
      }
    },
    {
      "cell_type": "markdown",
      "source": [
        "#-----------------------------------------------------------------------------"
      ],
      "metadata": {
        "id": "tD-wk81RB70O"
      }
    },
    {
      "cell_type": "markdown",
      "source": [
        "# **Important Features**"
      ],
      "metadata": {
        "id": "ZFrHjzmXAGrn"
      }
    },
    {
      "cell_type": "code",
      "source": [
        "importances = list((xg.feature_importances_)*100)\n",
        "\n",
        "\n",
        "feature_importances = [(feature, round(importance, 2)) for feature, importance in zip(X.columns, importances)]\n",
        "\n",
        "\n",
        "feature_importances = sorted(feature_importances, key = lambda x: x[1], reverse = True)\n",
        "\n",
        " \n",
        "[print('{:15} - {}'.format(*pair)) for pair in feature_importances];"
      ],
      "metadata": {
        "colab": {
          "base_uri": "https://localhost:8080/"
        },
        "id": "XPWZ8bnMAMzh",
        "outputId": "d3500007-d582-4df9-bad3-f80fc61ff34b"
      },
      "execution_count": 91,
      "outputs": [
        {
          "output_type": "stream",
          "name": "stdout",
          "text": [
            "call_type       - 40.66999816894531\n",
            "prev_outcome    - 18.93000030517578\n",
            "mon             - 11.479999542236328\n",
            "dur             - 9.850000381469727\n",
            "marital         - 4.340000152587891\n",
            "education_qual  - 4.329999923706055\n",
            "job             - 3.619999885559082\n",
            "num_calls       - 2.7300000190734863\n",
            "day             - 2.4200000762939453\n",
            "age             - 1.6299999952316284\n"
          ]
        }
      ]
    },
    {
      "cell_type": "markdown",
      "source": [
        "#-------------------------------Thank you..!-------------------------------"
      ],
      "metadata": {
        "id": "Xe6pFWT3B9OJ"
      }
    }
  ]
}